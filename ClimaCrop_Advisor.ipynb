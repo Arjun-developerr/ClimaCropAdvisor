{
  "cells": [
    {
      "cell_type": "markdown",
      "source": [
        "\n",
        "\n",
        "# \"**ClimaCrop Advisor** : A Predictive Model for Optimal Crop Recommendations Based on Climate and Soil Conditions\"\n",
        "\n",
        "\n",
        "\n"
      ],
      "metadata": {
        "id": "ZGF_QietnC1c"
      }
    },
    {
      "cell_type": "markdown",
      "source": [
        "### Problem Statement:- Construct a predictive model to determine the most appropriate crops to cultivate based on the prevailing climate and soil conditions."
      ],
      "metadata": {
        "id": "IJgFOig3p8QH"
      }
    },
    {
      "cell_type": "markdown",
      "source": [
        "**This project is focused on Precision agriculture.**\n",
        "\n",
        "*   We have to optimize productivity\n",
        "\n",
        "*   By understanding requirements of climatic and soil conditions for crops.\n",
        "\n",
        "*  Helps us to cope up with weather unpredictability.\n",
        "\n",
        "\n"
      ],
      "metadata": {
        "id": "6EoX_D7Lqtvm"
      }
    },
    {
      "cell_type": "code",
      "execution_count": null,
      "metadata": {
        "colab": {
          "base_uri": "https://localhost:8080/"
        },
        "id": "-gE-Ez1qtyIA",
        "outputId": "58bc68b7-be47-4264-8405-0577c274288f"
      },
      "outputs": [
        {
          "output_type": "stream",
          "name": "stdout",
          "text": [
            "Requirement already satisfied: ipywidgets in /usr/local/lib/python3.10/dist-packages (7.7.1)\n",
            "Requirement already satisfied: ipykernel>=4.5.1 in /usr/local/lib/python3.10/dist-packages (from ipywidgets) (5.5.6)\n",
            "Requirement already satisfied: ipython-genutils~=0.2.0 in /usr/local/lib/python3.10/dist-packages (from ipywidgets) (0.2.0)\n",
            "Requirement already satisfied: traitlets>=4.3.1 in /usr/local/lib/python3.10/dist-packages (from ipywidgets) (5.7.1)\n",
            "Requirement already satisfied: widgetsnbextension~=3.6.0 in /usr/local/lib/python3.10/dist-packages (from ipywidgets) (3.6.5)\n",
            "Requirement already satisfied: ipython>=4.0.0 in /usr/local/lib/python3.10/dist-packages (from ipywidgets) (7.34.0)\n",
            "Requirement already satisfied: jupyterlab-widgets>=1.0.0 in /usr/local/lib/python3.10/dist-packages (from ipywidgets) (3.0.8)\n",
            "Requirement already satisfied: jupyter-client in /usr/local/lib/python3.10/dist-packages (from ipykernel>=4.5.1->ipywidgets) (6.1.12)\n",
            "Requirement already satisfied: tornado>=4.2 in /usr/local/lib/python3.10/dist-packages (from ipykernel>=4.5.1->ipywidgets) (6.3.2)\n",
            "Requirement already satisfied: setuptools>=18.5 in /usr/local/lib/python3.10/dist-packages (from ipython>=4.0.0->ipywidgets) (67.7.2)\n",
            "Requirement already satisfied: jedi>=0.16 in /usr/local/lib/python3.10/dist-packages (from ipython>=4.0.0->ipywidgets) (0.19.0)\n",
            "Requirement already satisfied: decorator in /usr/local/lib/python3.10/dist-packages (from ipython>=4.0.0->ipywidgets) (4.4.2)\n",
            "Requirement already satisfied: pickleshare in /usr/local/lib/python3.10/dist-packages (from ipython>=4.0.0->ipywidgets) (0.7.5)\n",
            "Requirement already satisfied: prompt-toolkit!=3.0.0,!=3.0.1,<3.1.0,>=2.0.0 in /usr/local/lib/python3.10/dist-packages (from ipython>=4.0.0->ipywidgets) (3.0.39)\n",
            "Requirement already satisfied: pygments in /usr/local/lib/python3.10/dist-packages (from ipython>=4.0.0->ipywidgets) (2.16.1)\n",
            "Requirement already satisfied: backcall in /usr/local/lib/python3.10/dist-packages (from ipython>=4.0.0->ipywidgets) (0.2.0)\n",
            "Requirement already satisfied: matplotlib-inline in /usr/local/lib/python3.10/dist-packages (from ipython>=4.0.0->ipywidgets) (0.1.6)\n",
            "Requirement already satisfied: pexpect>4.3 in /usr/local/lib/python3.10/dist-packages (from ipython>=4.0.0->ipywidgets) (4.8.0)\n",
            "Requirement already satisfied: notebook>=4.4.1 in /usr/local/lib/python3.10/dist-packages (from widgetsnbextension~=3.6.0->ipywidgets) (6.5.5)\n",
            "Requirement already satisfied: parso<0.9.0,>=0.8.3 in /usr/local/lib/python3.10/dist-packages (from jedi>=0.16->ipython>=4.0.0->ipywidgets) (0.8.3)\n",
            "Requirement already satisfied: jinja2 in /usr/local/lib/python3.10/dist-packages (from notebook>=4.4.1->widgetsnbextension~=3.6.0->ipywidgets) (3.1.2)\n",
            "Requirement already satisfied: pyzmq<25,>=17 in /usr/local/lib/python3.10/dist-packages (from notebook>=4.4.1->widgetsnbextension~=3.6.0->ipywidgets) (23.2.1)\n",
            "Requirement already satisfied: argon2-cffi in /usr/local/lib/python3.10/dist-packages (from notebook>=4.4.1->widgetsnbextension~=3.6.0->ipywidgets) (23.1.0)\n",
            "Requirement already satisfied: jupyter-core>=4.6.1 in /usr/local/lib/python3.10/dist-packages (from notebook>=4.4.1->widgetsnbextension~=3.6.0->ipywidgets) (5.3.1)\n",
            "Requirement already satisfied: nbformat in /usr/local/lib/python3.10/dist-packages (from notebook>=4.4.1->widgetsnbextension~=3.6.0->ipywidgets) (5.9.2)\n",
            "Requirement already satisfied: nbconvert>=5 in /usr/local/lib/python3.10/dist-packages (from notebook>=4.4.1->widgetsnbextension~=3.6.0->ipywidgets) (6.5.4)\n",
            "Requirement already satisfied: nest-asyncio>=1.5 in /usr/local/lib/python3.10/dist-packages (from notebook>=4.4.1->widgetsnbextension~=3.6.0->ipywidgets) (1.5.7)\n",
            "Requirement already satisfied: Send2Trash>=1.8.0 in /usr/local/lib/python3.10/dist-packages (from notebook>=4.4.1->widgetsnbextension~=3.6.0->ipywidgets) (1.8.2)\n",
            "Requirement already satisfied: terminado>=0.8.3 in /usr/local/lib/python3.10/dist-packages (from notebook>=4.4.1->widgetsnbextension~=3.6.0->ipywidgets) (0.17.1)\n",
            "Requirement already satisfied: prometheus-client in /usr/local/lib/python3.10/dist-packages (from notebook>=4.4.1->widgetsnbextension~=3.6.0->ipywidgets) (0.17.1)\n",
            "Requirement already satisfied: nbclassic>=0.4.7 in /usr/local/lib/python3.10/dist-packages (from notebook>=4.4.1->widgetsnbextension~=3.6.0->ipywidgets) (1.0.0)\n",
            "Requirement already satisfied: python-dateutil>=2.1 in /usr/local/lib/python3.10/dist-packages (from jupyter-client->ipykernel>=4.5.1->ipywidgets) (2.8.2)\n",
            "Requirement already satisfied: ptyprocess>=0.5 in /usr/local/lib/python3.10/dist-packages (from pexpect>4.3->ipython>=4.0.0->ipywidgets) (0.7.0)\n",
            "Requirement already satisfied: wcwidth in /usr/local/lib/python3.10/dist-packages (from prompt-toolkit!=3.0.0,!=3.0.1,<3.1.0,>=2.0.0->ipython>=4.0.0->ipywidgets) (0.2.6)\n",
            "Requirement already satisfied: platformdirs>=2.5 in /usr/local/lib/python3.10/dist-packages (from jupyter-core>=4.6.1->notebook>=4.4.1->widgetsnbextension~=3.6.0->ipywidgets) (3.10.0)\n",
            "Requirement already satisfied: jupyter-server>=1.8 in /usr/local/lib/python3.10/dist-packages (from nbclassic>=0.4.7->notebook>=4.4.1->widgetsnbextension~=3.6.0->ipywidgets) (1.24.0)\n",
            "Requirement already satisfied: notebook-shim>=0.2.3 in /usr/local/lib/python3.10/dist-packages (from nbclassic>=0.4.7->notebook>=4.4.1->widgetsnbextension~=3.6.0->ipywidgets) (0.2.3)\n",
            "Requirement already satisfied: lxml in /usr/local/lib/python3.10/dist-packages (from nbconvert>=5->notebook>=4.4.1->widgetsnbextension~=3.6.0->ipywidgets) (4.9.3)\n",
            "Requirement already satisfied: beautifulsoup4 in /usr/local/lib/python3.10/dist-packages (from nbconvert>=5->notebook>=4.4.1->widgetsnbextension~=3.6.0->ipywidgets) (4.11.2)\n",
            "Requirement already satisfied: bleach in /usr/local/lib/python3.10/dist-packages (from nbconvert>=5->notebook>=4.4.1->widgetsnbextension~=3.6.0->ipywidgets) (6.0.0)\n",
            "Requirement already satisfied: defusedxml in /usr/local/lib/python3.10/dist-packages (from nbconvert>=5->notebook>=4.4.1->widgetsnbextension~=3.6.0->ipywidgets) (0.7.1)\n",
            "Requirement already satisfied: entrypoints>=0.2.2 in /usr/local/lib/python3.10/dist-packages (from nbconvert>=5->notebook>=4.4.1->widgetsnbextension~=3.6.0->ipywidgets) (0.4)\n",
            "Requirement already satisfied: jupyterlab-pygments in /usr/local/lib/python3.10/dist-packages (from nbconvert>=5->notebook>=4.4.1->widgetsnbextension~=3.6.0->ipywidgets) (0.2.2)\n",
            "Requirement already satisfied: MarkupSafe>=2.0 in /usr/local/lib/python3.10/dist-packages (from nbconvert>=5->notebook>=4.4.1->widgetsnbextension~=3.6.0->ipywidgets) (2.1.3)\n",
            "Requirement already satisfied: mistune<2,>=0.8.1 in /usr/local/lib/python3.10/dist-packages (from nbconvert>=5->notebook>=4.4.1->widgetsnbextension~=3.6.0->ipywidgets) (0.8.4)\n",
            "Requirement already satisfied: nbclient>=0.5.0 in /usr/local/lib/python3.10/dist-packages (from nbconvert>=5->notebook>=4.4.1->widgetsnbextension~=3.6.0->ipywidgets) (0.8.0)\n",
            "Requirement already satisfied: packaging in /usr/local/lib/python3.10/dist-packages (from nbconvert>=5->notebook>=4.4.1->widgetsnbextension~=3.6.0->ipywidgets) (23.1)\n",
            "Requirement already satisfied: pandocfilters>=1.4.1 in /usr/local/lib/python3.10/dist-packages (from nbconvert>=5->notebook>=4.4.1->widgetsnbextension~=3.6.0->ipywidgets) (1.5.0)\n",
            "Requirement already satisfied: tinycss2 in /usr/local/lib/python3.10/dist-packages (from nbconvert>=5->notebook>=4.4.1->widgetsnbextension~=3.6.0->ipywidgets) (1.2.1)\n",
            "Requirement already satisfied: fastjsonschema in /usr/local/lib/python3.10/dist-packages (from nbformat->notebook>=4.4.1->widgetsnbextension~=3.6.0->ipywidgets) (2.18.0)\n",
            "Requirement already satisfied: jsonschema>=2.6 in /usr/local/lib/python3.10/dist-packages (from nbformat->notebook>=4.4.1->widgetsnbextension~=3.6.0->ipywidgets) (4.19.0)\n",
            "Requirement already satisfied: six>=1.5 in /usr/local/lib/python3.10/dist-packages (from python-dateutil>=2.1->jupyter-client->ipykernel>=4.5.1->ipywidgets) (1.16.0)\n",
            "Requirement already satisfied: argon2-cffi-bindings in /usr/local/lib/python3.10/dist-packages (from argon2-cffi->notebook>=4.4.1->widgetsnbextension~=3.6.0->ipywidgets) (21.2.0)\n",
            "Requirement already satisfied: attrs>=22.2.0 in /usr/local/lib/python3.10/dist-packages (from jsonschema>=2.6->nbformat->notebook>=4.4.1->widgetsnbextension~=3.6.0->ipywidgets) (23.1.0)\n",
            "Requirement already satisfied: jsonschema-specifications>=2023.03.6 in /usr/local/lib/python3.10/dist-packages (from jsonschema>=2.6->nbformat->notebook>=4.4.1->widgetsnbextension~=3.6.0->ipywidgets) (2023.7.1)\n",
            "Requirement already satisfied: referencing>=0.28.4 in /usr/local/lib/python3.10/dist-packages (from jsonschema>=2.6->nbformat->notebook>=4.4.1->widgetsnbextension~=3.6.0->ipywidgets) (0.30.2)\n",
            "Requirement already satisfied: rpds-py>=0.7.1 in /usr/local/lib/python3.10/dist-packages (from jsonschema>=2.6->nbformat->notebook>=4.4.1->widgetsnbextension~=3.6.0->ipywidgets) (0.10.2)\n",
            "Requirement already satisfied: anyio<4,>=3.1.0 in /usr/local/lib/python3.10/dist-packages (from jupyter-server>=1.8->nbclassic>=0.4.7->notebook>=4.4.1->widgetsnbextension~=3.6.0->ipywidgets) (3.7.1)\n",
            "Requirement already satisfied: websocket-client in /usr/local/lib/python3.10/dist-packages (from jupyter-server>=1.8->nbclassic>=0.4.7->notebook>=4.4.1->widgetsnbextension~=3.6.0->ipywidgets) (1.6.2)\n",
            "Requirement already satisfied: cffi>=1.0.1 in /usr/local/lib/python3.10/dist-packages (from argon2-cffi-bindings->argon2-cffi->notebook>=4.4.1->widgetsnbextension~=3.6.0->ipywidgets) (1.15.1)\n",
            "Requirement already satisfied: soupsieve>1.2 in /usr/local/lib/python3.10/dist-packages (from beautifulsoup4->nbconvert>=5->notebook>=4.4.1->widgetsnbextension~=3.6.0->ipywidgets) (2.5)\n",
            "Requirement already satisfied: webencodings in /usr/local/lib/python3.10/dist-packages (from bleach->nbconvert>=5->notebook>=4.4.1->widgetsnbextension~=3.6.0->ipywidgets) (0.5.1)\n",
            "Requirement already satisfied: idna>=2.8 in /usr/local/lib/python3.10/dist-packages (from anyio<4,>=3.1.0->jupyter-server>=1.8->nbclassic>=0.4.7->notebook>=4.4.1->widgetsnbextension~=3.6.0->ipywidgets) (3.4)\n",
            "Requirement already satisfied: sniffio>=1.1 in /usr/local/lib/python3.10/dist-packages (from anyio<4,>=3.1.0->jupyter-server>=1.8->nbclassic>=0.4.7->notebook>=4.4.1->widgetsnbextension~=3.6.0->ipywidgets) (1.3.0)\n",
            "Requirement already satisfied: exceptiongroup in /usr/local/lib/python3.10/dist-packages (from anyio<4,>=3.1.0->jupyter-server>=1.8->nbclassic>=0.4.7->notebook>=4.4.1->widgetsnbextension~=3.6.0->ipywidgets) (1.1.3)\n",
            "Requirement already satisfied: pycparser in /usr/local/lib/python3.10/dist-packages (from cffi>=1.0.1->argon2-cffi-bindings->argon2-cffi->notebook>=4.4.1->widgetsnbextension~=3.6.0->ipywidgets) (2.21)\n"
          ]
        }
      ],
      "source": [
        "pip install ipywidgets"
      ]
    },
    {
      "cell_type": "code",
      "source": [
        "from google.colab import drive"
      ],
      "metadata": {
        "id": "cwp0x40wWW9s"
      },
      "execution_count": null,
      "outputs": []
    },
    {
      "cell_type": "code",
      "source": [
        "drive.mount('/content/drive')"
      ],
      "metadata": {
        "id": "DBM_pyYdW1Sm",
        "outputId": "7eeecc91-3773-43c0-a8c2-7f8aa34bfc27",
        "colab": {
          "base_uri": "https://localhost:8080/"
        }
      },
      "execution_count": null,
      "outputs": [
        {
          "output_type": "stream",
          "name": "stdout",
          "text": [
            "Mounted at /content/drive\n"
          ]
        }
      ]
    },
    {
      "cell_type": "code",
      "source": [
        "#for manipulations\n",
        "import numpy as np\n",
        "import pandas as pd\n",
        "#for data visualizations\n",
        "import matplotlib.pyplot as plt\n",
        "import seaborn as sns\n",
        "#for interactivity\n",
        "from ipywidgets import interact"
      ],
      "metadata": {
        "id": "XooQRIisX161"
      },
      "execution_count": null,
      "outputs": []
    },
    {
      "cell_type": "code",
      "source": [
        "#reading datasets\n",
        "data = pd.read_csv('/content/drive/MyDrive/Data sets/data.csv')"
      ],
      "metadata": {
        "id": "7n0IOfpQYR70"
      },
      "execution_count": null,
      "outputs": []
    },
    {
      "cell_type": "code",
      "source": [
        "#for checking data shape\n",
        "#2200 rows and 8 columns\n",
        "print(\"Shape of the dataset :\",data.shape)"
      ],
      "metadata": {
        "id": "b_sLwTL2aQIF",
        "outputId": "db70c0aa-01c4-4f85-d15a-f54f51bb4154",
        "colab": {
          "base_uri": "https://localhost:8080/"
        }
      },
      "execution_count": null,
      "outputs": [
        {
          "output_type": "stream",
          "name": "stdout",
          "text": [
            "Shape of the dataset : (2200, 8)\n"
          ]
        }
      ]
    },
    {
      "cell_type": "code",
      "source": [
        "data.head()"
      ],
      "metadata": {
        "id": "M-4UPhHYaXTz",
        "outputId": "86fd10fb-9d22-4d2c-8023-71cb469225f5",
        "colab": {
          "base_uri": "https://localhost:8080/",
          "height": 206
        }
      },
      "execution_count": null,
      "outputs": [
        {
          "output_type": "execute_result",
          "data": {
            "text/plain": [
              "    N   P   K  temperature   humidity        ph    rainfall label\n",
              "0  90  42  43    20.879744  82.002744  6.502985  202.935536  rice\n",
              "1  85  58  41    21.770462  80.319644  7.038096  226.655537  rice\n",
              "2  60  55  44    23.004459  82.320763  7.840207  263.964248  rice\n",
              "3  74  35  40    26.491096  80.158363  6.980401  242.864034  rice\n",
              "4  78  42  42    20.130175  81.604873  7.628473  262.717340  rice"
            ],
            "text/html": [
              "\n",
              "  <div id=\"df-f23e8b65-ac50-47af-8138-97d287b021df\" class=\"colab-df-container\">\n",
              "    <div>\n",
              "<style scoped>\n",
              "    .dataframe tbody tr th:only-of-type {\n",
              "        vertical-align: middle;\n",
              "    }\n",
              "\n",
              "    .dataframe tbody tr th {\n",
              "        vertical-align: top;\n",
              "    }\n",
              "\n",
              "    .dataframe thead th {\n",
              "        text-align: right;\n",
              "    }\n",
              "</style>\n",
              "<table border=\"1\" class=\"dataframe\">\n",
              "  <thead>\n",
              "    <tr style=\"text-align: right;\">\n",
              "      <th></th>\n",
              "      <th>N</th>\n",
              "      <th>P</th>\n",
              "      <th>K</th>\n",
              "      <th>temperature</th>\n",
              "      <th>humidity</th>\n",
              "      <th>ph</th>\n",
              "      <th>rainfall</th>\n",
              "      <th>label</th>\n",
              "    </tr>\n",
              "  </thead>\n",
              "  <tbody>\n",
              "    <tr>\n",
              "      <th>0</th>\n",
              "      <td>90</td>\n",
              "      <td>42</td>\n",
              "      <td>43</td>\n",
              "      <td>20.879744</td>\n",
              "      <td>82.002744</td>\n",
              "      <td>6.502985</td>\n",
              "      <td>202.935536</td>\n",
              "      <td>rice</td>\n",
              "    </tr>\n",
              "    <tr>\n",
              "      <th>1</th>\n",
              "      <td>85</td>\n",
              "      <td>58</td>\n",
              "      <td>41</td>\n",
              "      <td>21.770462</td>\n",
              "      <td>80.319644</td>\n",
              "      <td>7.038096</td>\n",
              "      <td>226.655537</td>\n",
              "      <td>rice</td>\n",
              "    </tr>\n",
              "    <tr>\n",
              "      <th>2</th>\n",
              "      <td>60</td>\n",
              "      <td>55</td>\n",
              "      <td>44</td>\n",
              "      <td>23.004459</td>\n",
              "      <td>82.320763</td>\n",
              "      <td>7.840207</td>\n",
              "      <td>263.964248</td>\n",
              "      <td>rice</td>\n",
              "    </tr>\n",
              "    <tr>\n",
              "      <th>3</th>\n",
              "      <td>74</td>\n",
              "      <td>35</td>\n",
              "      <td>40</td>\n",
              "      <td>26.491096</td>\n",
              "      <td>80.158363</td>\n",
              "      <td>6.980401</td>\n",
              "      <td>242.864034</td>\n",
              "      <td>rice</td>\n",
              "    </tr>\n",
              "    <tr>\n",
              "      <th>4</th>\n",
              "      <td>78</td>\n",
              "      <td>42</td>\n",
              "      <td>42</td>\n",
              "      <td>20.130175</td>\n",
              "      <td>81.604873</td>\n",
              "      <td>7.628473</td>\n",
              "      <td>262.717340</td>\n",
              "      <td>rice</td>\n",
              "    </tr>\n",
              "  </tbody>\n",
              "</table>\n",
              "</div>\n",
              "    <div class=\"colab-df-buttons\">\n",
              "\n",
              "  <div class=\"colab-df-container\">\n",
              "    <button class=\"colab-df-convert\" onclick=\"convertToInteractive('df-f23e8b65-ac50-47af-8138-97d287b021df')\"\n",
              "            title=\"Convert this dataframe to an interactive table.\"\n",
              "            style=\"display:none;\">\n",
              "\n",
              "  <svg xmlns=\"http://www.w3.org/2000/svg\" height=\"24px\" viewBox=\"0 -960 960 960\">\n",
              "    <path d=\"M120-120v-720h720v720H120Zm60-500h600v-160H180v160Zm220 220h160v-160H400v160Zm0 220h160v-160H400v160ZM180-400h160v-160H180v160Zm440 0h160v-160H620v160ZM180-180h160v-160H180v160Zm440 0h160v-160H620v160Z\"/>\n",
              "  </svg>\n",
              "    </button>\n",
              "\n",
              "  <style>\n",
              "    .colab-df-container {\n",
              "      display:flex;\n",
              "      gap: 12px;\n",
              "    }\n",
              "\n",
              "    .colab-df-convert {\n",
              "      background-color: #E8F0FE;\n",
              "      border: none;\n",
              "      border-radius: 50%;\n",
              "      cursor: pointer;\n",
              "      display: none;\n",
              "      fill: #1967D2;\n",
              "      height: 32px;\n",
              "      padding: 0 0 0 0;\n",
              "      width: 32px;\n",
              "    }\n",
              "\n",
              "    .colab-df-convert:hover {\n",
              "      background-color: #E2EBFA;\n",
              "      box-shadow: 0px 1px 2px rgba(60, 64, 67, 0.3), 0px 1px 3px 1px rgba(60, 64, 67, 0.15);\n",
              "      fill: #174EA6;\n",
              "    }\n",
              "\n",
              "    .colab-df-buttons div {\n",
              "      margin-bottom: 4px;\n",
              "    }\n",
              "\n",
              "    [theme=dark] .colab-df-convert {\n",
              "      background-color: #3B4455;\n",
              "      fill: #D2E3FC;\n",
              "    }\n",
              "\n",
              "    [theme=dark] .colab-df-convert:hover {\n",
              "      background-color: #434B5C;\n",
              "      box-shadow: 0px 1px 3px 1px rgba(0, 0, 0, 0.15);\n",
              "      filter: drop-shadow(0px 1px 2px rgba(0, 0, 0, 0.3));\n",
              "      fill: #FFFFFF;\n",
              "    }\n",
              "  </style>\n",
              "\n",
              "    <script>\n",
              "      const buttonEl =\n",
              "        document.querySelector('#df-f23e8b65-ac50-47af-8138-97d287b021df button.colab-df-convert');\n",
              "      buttonEl.style.display =\n",
              "        google.colab.kernel.accessAllowed ? 'block' : 'none';\n",
              "\n",
              "      async function convertToInteractive(key) {\n",
              "        const element = document.querySelector('#df-f23e8b65-ac50-47af-8138-97d287b021df');\n",
              "        const dataTable =\n",
              "          await google.colab.kernel.invokeFunction('convertToInteractive',\n",
              "                                                    [key], {});\n",
              "        if (!dataTable) return;\n",
              "\n",
              "        const docLinkHtml = 'Like what you see? Visit the ' +\n",
              "          '<a target=\"_blank\" href=https://colab.research.google.com/notebooks/data_table.ipynb>data table notebook</a>'\n",
              "          + ' to learn more about interactive tables.';\n",
              "        element.innerHTML = '';\n",
              "        dataTable['output_type'] = 'display_data';\n",
              "        await google.colab.output.renderOutput(dataTable, element);\n",
              "        const docLink = document.createElement('div');\n",
              "        docLink.innerHTML = docLinkHtml;\n",
              "        element.appendChild(docLink);\n",
              "      }\n",
              "    </script>\n",
              "  </div>\n",
              "\n",
              "\n",
              "<div id=\"df-e16d4de7-49a7-4cb7-977a-31087e9d0eff\">\n",
              "  <button class=\"colab-df-quickchart\" onclick=\"quickchart('df-e16d4de7-49a7-4cb7-977a-31087e9d0eff')\"\n",
              "            title=\"Suggest charts.\"\n",
              "            style=\"display:none;\">\n",
              "\n",
              "<svg xmlns=\"http://www.w3.org/2000/svg\" height=\"24px\"viewBox=\"0 0 24 24\"\n",
              "     width=\"24px\">\n",
              "    <g>\n",
              "        <path d=\"M19 3H5c-1.1 0-2 .9-2 2v14c0 1.1.9 2 2 2h14c1.1 0 2-.9 2-2V5c0-1.1-.9-2-2-2zM9 17H7v-7h2v7zm4 0h-2V7h2v10zm4 0h-2v-4h2v4z\"/>\n",
              "    </g>\n",
              "</svg>\n",
              "  </button>\n",
              "\n",
              "<style>\n",
              "  .colab-df-quickchart {\n",
              "      --bg-color: #E8F0FE;\n",
              "      --fill-color: #1967D2;\n",
              "      --hover-bg-color: #E2EBFA;\n",
              "      --hover-fill-color: #174EA6;\n",
              "      --disabled-fill-color: #AAA;\n",
              "      --disabled-bg-color: #DDD;\n",
              "  }\n",
              "\n",
              "  [theme=dark] .colab-df-quickchart {\n",
              "      --bg-color: #3B4455;\n",
              "      --fill-color: #D2E3FC;\n",
              "      --hover-bg-color: #434B5C;\n",
              "      --hover-fill-color: #FFFFFF;\n",
              "      --disabled-bg-color: #3B4455;\n",
              "      --disabled-fill-color: #666;\n",
              "  }\n",
              "\n",
              "  .colab-df-quickchart {\n",
              "    background-color: var(--bg-color);\n",
              "    border: none;\n",
              "    border-radius: 50%;\n",
              "    cursor: pointer;\n",
              "    display: none;\n",
              "    fill: var(--fill-color);\n",
              "    height: 32px;\n",
              "    padding: 0;\n",
              "    width: 32px;\n",
              "  }\n",
              "\n",
              "  .colab-df-quickchart:hover {\n",
              "    background-color: var(--hover-bg-color);\n",
              "    box-shadow: 0 1px 2px rgba(60, 64, 67, 0.3), 0 1px 3px 1px rgba(60, 64, 67, 0.15);\n",
              "    fill: var(--button-hover-fill-color);\n",
              "  }\n",
              "\n",
              "  .colab-df-quickchart-complete:disabled,\n",
              "  .colab-df-quickchart-complete:disabled:hover {\n",
              "    background-color: var(--disabled-bg-color);\n",
              "    fill: var(--disabled-fill-color);\n",
              "    box-shadow: none;\n",
              "  }\n",
              "\n",
              "  .colab-df-spinner {\n",
              "    border: 2px solid var(--fill-color);\n",
              "    border-color: transparent;\n",
              "    border-bottom-color: var(--fill-color);\n",
              "    animation:\n",
              "      spin 1s steps(1) infinite;\n",
              "  }\n",
              "\n",
              "  @keyframes spin {\n",
              "    0% {\n",
              "      border-color: transparent;\n",
              "      border-bottom-color: var(--fill-color);\n",
              "      border-left-color: var(--fill-color);\n",
              "    }\n",
              "    20% {\n",
              "      border-color: transparent;\n",
              "      border-left-color: var(--fill-color);\n",
              "      border-top-color: var(--fill-color);\n",
              "    }\n",
              "    30% {\n",
              "      border-color: transparent;\n",
              "      border-left-color: var(--fill-color);\n",
              "      border-top-color: var(--fill-color);\n",
              "      border-right-color: var(--fill-color);\n",
              "    }\n",
              "    40% {\n",
              "      border-color: transparent;\n",
              "      border-right-color: var(--fill-color);\n",
              "      border-top-color: var(--fill-color);\n",
              "    }\n",
              "    60% {\n",
              "      border-color: transparent;\n",
              "      border-right-color: var(--fill-color);\n",
              "    }\n",
              "    80% {\n",
              "      border-color: transparent;\n",
              "      border-right-color: var(--fill-color);\n",
              "      border-bottom-color: var(--fill-color);\n",
              "    }\n",
              "    90% {\n",
              "      border-color: transparent;\n",
              "      border-bottom-color: var(--fill-color);\n",
              "    }\n",
              "  }\n",
              "</style>\n",
              "\n",
              "  <script>\n",
              "    async function quickchart(key) {\n",
              "      const quickchartButtonEl =\n",
              "        document.querySelector('#' + key + ' button');\n",
              "      quickchartButtonEl.disabled = true;  // To prevent multiple clicks.\n",
              "      quickchartButtonEl.classList.add('colab-df-spinner');\n",
              "      try {\n",
              "        const charts = await google.colab.kernel.invokeFunction(\n",
              "            'suggestCharts', [key], {});\n",
              "      } catch (error) {\n",
              "        console.error('Error during call to suggestCharts:', error);\n",
              "      }\n",
              "      quickchartButtonEl.classList.remove('colab-df-spinner');\n",
              "      quickchartButtonEl.classList.add('colab-df-quickchart-complete');\n",
              "    }\n",
              "    (() => {\n",
              "      let quickchartButtonEl =\n",
              "        document.querySelector('#df-e16d4de7-49a7-4cb7-977a-31087e9d0eff button');\n",
              "      quickchartButtonEl.style.display =\n",
              "        google.colab.kernel.accessAllowed ? 'block' : 'none';\n",
              "    })();\n",
              "  </script>\n",
              "</div>\n",
              "    </div>\n",
              "  </div>\n"
            ]
          },
          "metadata": {},
          "execution_count": 9
        }
      ]
    },
    {
      "cell_type": "code",
      "source": [
        "#checking is there any missing or null values present in the table\n",
        "data.isnull().sum()"
      ],
      "metadata": {
        "id": "odYeREg6X7cl",
        "outputId": "d53c5f21-4d1d-4d6f-90ea-cb33590af182",
        "colab": {
          "base_uri": "https://localhost:8080/"
        }
      },
      "execution_count": null,
      "outputs": [
        {
          "output_type": "execute_result",
          "data": {
            "text/plain": [
              "N              0\n",
              "P              0\n",
              "K              0\n",
              "temperature    0\n",
              "humidity       0\n",
              "ph             0\n",
              "rainfall       0\n",
              "label          0\n",
              "dtype: int64"
            ]
          },
          "metadata": {},
          "execution_count": 10
        }
      ]
    },
    {
      "cell_type": "markdown",
      "source": [
        "There is no missing values but if any dataset have missing values then follow these steps:-\n",
        "\n",
        "\n",
        "*   Fill-NA function is used to replace these missing values such as mean,median or mode.\n",
        "*   NA means Not Available\n",
        "*   Pandas have functions like fill-NA to treat missing values\n",
        "*   If in your dataset have any numerical column with missing value then you can use mean value to replace missing values.\n",
        "*   If in your datset have any categorical column with missing values then you can use mode value to replace missing values.\n",
        "\n",
        "*   List item\n",
        "\n",
        "\n",
        "\n",
        "\n",
        "\n",
        "\n",
        "\n",
        "\n",
        "\n",
        "\n",
        "\n",
        "\n",
        "\n",
        "\n",
        "\n"
      ],
      "metadata": {
        "id": "cR5CiTn1bd39"
      }
    },
    {
      "cell_type": "code",
      "source": [
        "# Let's check the crops present in this dataset\n",
        "data['label'].value_counts()"
      ],
      "metadata": {
        "id": "NHheIAE4WT8u",
        "outputId": "24d48160-6bf1-470f-a628-61f316292042",
        "colab": {
          "base_uri": "https://localhost:8080/"
        }
      },
      "execution_count": null,
      "outputs": [
        {
          "output_type": "execute_result",
          "data": {
            "text/plain": [
              "rice           100\n",
              "maize          100\n",
              "jute           100\n",
              "cotton         100\n",
              "coconut        100\n",
              "papaya         100\n",
              "orange         100\n",
              "apple          100\n",
              "muskmelon      100\n",
              "watermelon     100\n",
              "grapes         100\n",
              "mango          100\n",
              "banana         100\n",
              "pomegranate    100\n",
              "lentil         100\n",
              "blackgram      100\n",
              "mungbean       100\n",
              "mothbeans      100\n",
              "pigeonpeas     100\n",
              "kidneybeans    100\n",
              "chickpea       100\n",
              "coffee         100\n",
              "Name: label, dtype: int64"
            ]
          },
          "metadata": {},
          "execution_count": 11
        }
      ]
    },
    {
      "cell_type": "code",
      "source": [
        "# Let's check the summary for all the crops\n",
        "print('Average ratio of nitrogen in the soil : {0:.2f}'.format(data['N'].mean()))\n",
        "print('Average ratio of phosphorous in the soil : {0:.2f}'.format(data['P'].mean()))\n",
        "print('Average ratio of potassium in the soil: {0:.2f}'.format(data['K'].mean()))\n",
        "print('Average tempature in celsius : {0:.2f}'.format(data['temperature'].mean()))\n",
        "print('Average relative humidity in : {0:.2f}'.format(data['humidity'].mean()))\n",
        "print('Average ph value of the soil : {0:.2f}'.format(data['ph'].mean()))\n",
        "print('Average rainfall in mm : {0:.2f}'.format(data['rainfall'].mean()))"
      ],
      "metadata": {
        "id": "3lMjqxaNd9dk",
        "outputId": "1a663531-6f14-401d-d298-4c8a1bc414d6",
        "colab": {
          "base_uri": "https://localhost:8080/"
        }
      },
      "execution_count": null,
      "outputs": [
        {
          "output_type": "stream",
          "name": "stdout",
          "text": [
            "Average ratio of nitrogen in the soil : 50.55\n",
            "Average ratio of phosphorous in the soil : 53.36\n",
            "Average ratio of potassium in the soil: 48.15\n",
            "Average tempature in celsius : 25.62\n",
            "Average relative humidity in : 71.48\n",
            "Average ph value of the soil : 6.47\n",
            "Average rainfall in mm : 103.46\n"
          ]
        }
      ]
    },
    {
      "cell_type": "markdown",
      "source": [
        "I am using here simply mean function to know about average climatic conditions and soil requirements."
      ],
      "metadata": {
        "id": "plaNId5Kmwsg"
      }
    },
    {
      "cell_type": "code",
      "source": [
        "# Let's check the summary statistics  for each of the class\n",
        "@interact\n",
        "def summary(crops = list(data['label'].value_counts().index)):\n",
        "    x=data[data['label']==crops]\n",
        "    print('-----------------------------------------------')\n",
        "    print(\"statistics for nitrogen\")\n",
        "    print('Minimum nitrogen required:',x['N'].min())\n",
        "    print('Average nitrogen required:',x['N'].mean())\n",
        "    print('Maximum nitrogen required:',x['N'].max())\n",
        "    print('-----------------------------------------------')\n",
        "    print(\"statistics for phosphorous\")\n",
        "    print('Minimum phosphorous required:',x['P'].min())\n",
        "    print('Average phosphorous required:',x['P'].mean())\n",
        "    print('Maximum phosphorous required:',x['P'].max())\n",
        "    print('-----------------------------------------------')\n",
        "    print(\"statistics for potassium\")\n",
        "    print('Minimum potassium required:',x['K'].min())\n",
        "    print('Average potassium required:',x['K'].mean())\n",
        "    print('Maximum potassium required:',x['K'].max())\n",
        "    print('-----------------------------------------------')\n",
        "    print(\"statistics for temperature\")\n",
        "    print('Minimum temperature required: {0:.2f}'.format(x['temperature'].min()))\n",
        "    print('Average temperature required: {0:.2f}'.format(x['temperature'].mean()))\n",
        "    print('Maximum temperature required: {0:.2f}'.format(x['temperature'].max()))\n",
        "    print('-----------------------------------------------')\n",
        "    print(\"statistics for humidity\")\n",
        "    print('Minimum humidity required: {0:.2f}'.format(x['humidity'].min()))\n",
        "    print('Average humidity required: {0:.2f}'.format(x['humidity'].mean()))\n",
        "    print('Maximum humidity required: {0:.2f}'.format(x['humidity'].max()))\n",
        "    print('-----------------------------------------------')\n",
        "    print(\"statistics for ph\")\n",
        "    print('Minimum ph required: {0:.2f}'.format(x['ph'].min()))\n",
        "    print('Average ph required: {0:.2f}'.format(x['ph'].mean()))\n",
        "    print('Maximum ph required: {0:.2f}'.format(x['ph'].max()))\n",
        "    print('-----------------------------------------------')\n",
        "    print(\"statistics for rainfall\")\n",
        "    print('Minimum rainfall required: {0:.2f}'.format(x['rainfall'].min()))\n",
        "    print('Average rainfall required: {0:.2f}'.format(x['rainfall'].mean()))\n",
        "    print('Maximum rainfall required: {0:.2f}'.format(x['rainfall'].max()))"
      ],
      "metadata": {
        "id": "kRSaEHtOd_n1",
        "outputId": "3228ff47-5a54-4a64-d3d4-36e345163c92",
        "colab": {
          "base_uri": "https://localhost:8080/",
          "height": 657,
          "referenced_widgets": [
            "b0dee51d8f3e4babab99fb639b91b2f7",
            "96e7397ac9654c4991978366a385b412",
            "610b238ac6794d0487b8248412de5224",
            "93b21dfbe8fb4efeae519f0a9dd90256",
            "c6a1ca48e0764b45a1327424fb3e1647",
            "c4b5aad26afb441a816da80fe0d9c4a9",
            "6aec4b2794a14e02848ecc1e2b3dc314"
          ]
        }
      },
      "execution_count": null,
      "outputs": [
        {
          "output_type": "display_data",
          "data": {
            "text/plain": [
              "interactive(children=(Dropdown(description='crops', options=('rice', 'maize', 'jute', 'cotton', 'coconut', 'pa…"
            ],
            "application/vnd.jupyter.widget-view+json": {
              "version_major": 2,
              "version_minor": 0,
              "model_id": "b0dee51d8f3e4babab99fb639b91b2f7"
            }
          },
          "metadata": {}
        }
      ]
    },
    {
      "cell_type": "code",
      "source": [],
      "metadata": {
        "id": "ovsCRPIpead9"
      },
      "execution_count": null,
      "outputs": []
    },
    {
      "cell_type": "markdown",
      "source": [
        "**I'm using the @interact function in this case because it's so interactive. This crucial function is what causes the drop-down menu in the result to appear. This function is only available in the ipywidgets library. This function will once again become non-interactive if you remove it.**"
      ],
      "metadata": {
        "id": "gbPsuFXRfA8n"
      }
    },
    {
      "cell_type": "code",
      "source": [
        "# Let's check the average requirements for each crops with average conditions\n",
        "@interact\n",
        "def compare(conditions=['N','K','P','temperature','ph','humidity','rainfall']):\n",
        "    print('Average value for',conditions,'is {0:.2f}'.format(data[conditions].mean()))\n",
        "    print('----------------------------------------------------------------------')\n",
        "    print('Rice:{0:.2f}'.format(data[(data['label']=='rice')][conditions].mean()))\n",
        "    print('Black Grams:{0:.2f}'.format(data[(data['label']=='blackgram')][conditions].mean()))\n",
        "    print('Banana:{0:.2f}'.format(data[(data['label']=='banana')][conditions].mean()))\n",
        "    print('Jute:{0:.2f}'.format(data[(data['label']=='jute')][conditions].mean()))\n",
        "    print('Coconut:{0:.2f}'.format(data[(data['label']=='coconut')][conditions].mean()))\n",
        "    print('Apple:{0:.2f}'.format(data[(data['label']=='apple')][conditions].mean()))\n",
        "    print('Papaya:{0:.2f}'.format(data[(data['label']=='papaya')][conditions].mean()))\n",
        "    print('Muskmelon:{0:.2f}'.format(data[(data['label']=='muskmelon')][conditions].mean()))\n",
        "    print('Grapes:{0:.2f}'.format(data[(data['label']=='grapes')][conditions].mean()))\n",
        "    print('Watermelon:{0:.2f}'.format(data[(data['label']=='watermelon')][conditions].mean()))\n",
        "    print('Kidney Beans:{0:.2f}'.format(data[(data['label']=='kidneybeans')][conditions].mean()))\n",
        "    print('Mung Beans:{0:.2f}'.format(data[(data['label']=='mungbeans')][conditions].mean()))\n",
        "    print('Oranges:{0:.2f}'.format(data[(data['label']=='oranges')][conditions].mean()))\n",
        "    print('Chick Peas:{0:.2f}'.format(data[(data['label']=='chickpeas')][conditions].mean()))\n",
        "    print('Lentils:{0:.2f}'.format(data[(data['label']=='lentils')][conditions].mean()))\n",
        "    print('Cotton:{0:.2f}'.format(data[(data['label']=='cotton')][conditions].mean()))\n",
        "    print('Maize:{0:.2f}'.format(data[(data['label']=='maize')][conditions].mean()))\n",
        "    print('Moth Beans:{0:.2f}'.format(data[(data['label']=='mothbeans')][conditions].mean()))\n",
        "    print('Pigeon Beans:{0:.2f}'.format(data[(data['label']=='pigeonbeans')][conditions].mean()))\n",
        "    print('Mango:{0:.2f}'.format(data[(data['label']=='mango')][conditions].mean()))\n",
        "    print('Pomegranate:{0:.2f}'.format(data[(data['label']=='pomegranate')][conditions].mean()))\n",
        "    print('Coffee:{0:.2f}'.format(data[(data['label']=='coffee')][conditions].mean()))"
      ],
      "metadata": {
        "id": "21B9qdaWfJ0h",
        "outputId": "25c17720-d12e-4c67-9ebc-95c0374f2a7c",
        "colab": {
          "base_uri": "https://localhost:8080/",
          "height": 466,
          "referenced_widgets": [
            "230304a45e1d40eb8e2e5f349ca592fd",
            "66a8af35c59c449b9527801ad68bcffa",
            "ebfb8af5101d443092043c779e7a7241",
            "24c79ea276e843709996ba64ab4d555f",
            "5a8991900bb14dbbaf72bea0bc1ae973",
            "e7fd62e852bf403b975bb620f2a43821",
            "09a11b1bcc7e40048bf0534f7d46ae70"
          ]
        }
      },
      "execution_count": null,
      "outputs": [
        {
          "output_type": "display_data",
          "data": {
            "text/plain": [
              "interactive(children=(Dropdown(description='conditions', options=('N', 'K', 'P', 'temperature', 'ph', 'humidit…"
            ],
            "application/vnd.jupyter.widget-view+json": {
              "version_major": 2,
              "version_minor": 0,
              "model_id": "230304a45e1d40eb8e2e5f349ca592fd"
            }
          },
          "metadata": {}
        }
      ]
    },
    {
      "cell_type": "code",
      "source": [
        "# Let's make this function more intuitive\n",
        "@interact\n",
        "def compare(conditions=['N','P','K','temperature','humidity','ph','rainfall']):\n",
        "    print('crops which require greater than average',conditions,'\\n')\n",
        "    print(data[data[conditions]>data[conditions].mean()]['label'].unique())\n",
        "    print('----------------------------------------------')\n",
        "    print('crops which require less than average',conditions,'\\n')\n",
        "    print(data[data[conditions]<data[conditions].mean()]['label'].unique())\n"
      ],
      "metadata": {
        "id": "cZ-9QlAwfRhV",
        "outputId": "67d41521-6497-4f0e-acd7-7db153b8ac29",
        "colab": {
          "base_uri": "https://localhost:8080/",
          "height": 223,
          "referenced_widgets": [
            "9fcc09eefd604ed9b0a153c4a6d7774a",
            "3581b78d5f38485db85a5260045dcf03",
            "16685b4ee2ac44449dfcc10a466599c8",
            "85be9aa27eac47999458c90c37c1d8bd",
            "c859392725a04912a43b5c87019caa67",
            "356a520216e54d49bc4a917111749b2c",
            "834ffe25c0454ab8a434770793a48b22"
          ]
        }
      },
      "execution_count": null,
      "outputs": [
        {
          "output_type": "display_data",
          "data": {
            "text/plain": [
              "interactive(children=(Dropdown(description='conditions', options=('N', 'P', 'K', 'temperature', 'humidity', 'p…"
            ],
            "application/vnd.jupyter.widget-view+json": {
              "version_major": 2,
              "version_minor": 0,
              "model_id": "9fcc09eefd604ed9b0a153c4a6d7774a"
            }
          },
          "metadata": {}
        }
      ]
    },
    {
      "cell_type": "markdown",
      "source": [
        "# **Distributions**"
      ],
      "metadata": {
        "id": "nDkgEIxDf7zR"
      }
    },
    {
      "cell_type": "markdown",
      "source": [
        "## To check the distribution tells us about the associated occurcenses & patterns between all columns/field."
      ],
      "metadata": {
        "id": "PXnzOgZ_gFPC"
      }
    },
    {
      "cell_type": "markdown",
      "source": [
        "### From check the distribution we can know about the outliers of particular columns/field."
      ],
      "metadata": {
        "id": "03DpKu6GgObZ"
      }
    },
    {
      "cell_type": "code",
      "source": [
        "plt.figure(figsize=(10,7))\n",
        "plt.subplot(2,4,1)\n",
        "sns.distplot(data['N'],color='red')\n",
        "plt.xlabel('Ratio Of Nitrogen', fontsize=12)\n",
        "plt.grid()\n",
        "\n",
        "plt.subplot(2,4,2)\n",
        "sns.distplot(data['P'],color='darkblue')\n",
        "plt.xlabel('Ratio Of Phosphorous', fontsize=12)\n",
        "plt.grid()\n",
        "\n",
        "plt.subplot(2,4,3)\n",
        "sns.distplot(data['K'],color='black')\n",
        "plt.xlabel('Ratio Of Potassium', fontsize=12)\n",
        "plt.grid()\n",
        "\n",
        "plt.subplot(2,4,4)\n",
        "sns.distplot(data['temperature'],color='purple')\n",
        "plt.xlabel('Temperature', fontsize=12)\n",
        "plt.grid()\n",
        "\n",
        "plt.subplot(2,4,5)\n",
        "sns.distplot(data['humidity'],color='darkgreen')\n",
        "plt.xlabel('Humidity', fontsize=12)\n",
        "plt.grid()\n",
        "\n",
        "plt.subplot(2,4,6)\n",
        "sns.distplot(data['ph'],color='skyblue')\n",
        "plt.xlabel('Ph Level', fontsize=12)\n",
        "plt.grid()\n",
        "\n",
        "plt.subplot(2,4,7)\n",
        "sns.distplot(data['rainfall'],color='orange')\n",
        "plt.xlabel('Rainfall', fontsize=12)\n",
        "plt.grid()\n",
        "\n",
        "plt.suptitle('Distribution For Agricultural Conditions',fontsize=20)\n",
        "plt.show()"
      ],
      "metadata": {
        "id": "HPVfpM9jgePC",
        "outputId": "99dc7069-535c-43a9-fe44-083a0cb163c9",
        "colab": {
          "base_uri": "https://localhost:8080/",
          "height": 1000
        }
      },
      "execution_count": null,
      "outputs": [
        {
          "output_type": "stream",
          "name": "stderr",
          "text": [
            "<ipython-input-19-742ca7d1fb7a>:3: UserWarning: \n",
            "\n",
            "`distplot` is a deprecated function and will be removed in seaborn v0.14.0.\n",
            "\n",
            "Please adapt your code to use either `displot` (a figure-level function with\n",
            "similar flexibility) or `histplot` (an axes-level function for histograms).\n",
            "\n",
            "For a guide to updating your code to use the new functions, please see\n",
            "https://gist.github.com/mwaskom/de44147ed2974457ad6372750bbe5751\n",
            "\n",
            "  sns.distplot(data['N'],color='red')\n",
            "<ipython-input-19-742ca7d1fb7a>:8: UserWarning: \n",
            "\n",
            "`distplot` is a deprecated function and will be removed in seaborn v0.14.0.\n",
            "\n",
            "Please adapt your code to use either `displot` (a figure-level function with\n",
            "similar flexibility) or `histplot` (an axes-level function for histograms).\n",
            "\n",
            "For a guide to updating your code to use the new functions, please see\n",
            "https://gist.github.com/mwaskom/de44147ed2974457ad6372750bbe5751\n",
            "\n",
            "  sns.distplot(data['P'],color='darkblue')\n",
            "<ipython-input-19-742ca7d1fb7a>:13: UserWarning: \n",
            "\n",
            "`distplot` is a deprecated function and will be removed in seaborn v0.14.0.\n",
            "\n",
            "Please adapt your code to use either `displot` (a figure-level function with\n",
            "similar flexibility) or `histplot` (an axes-level function for histograms).\n",
            "\n",
            "For a guide to updating your code to use the new functions, please see\n",
            "https://gist.github.com/mwaskom/de44147ed2974457ad6372750bbe5751\n",
            "\n",
            "  sns.distplot(data['K'],color='black')\n",
            "<ipython-input-19-742ca7d1fb7a>:18: UserWarning: \n",
            "\n",
            "`distplot` is a deprecated function and will be removed in seaborn v0.14.0.\n",
            "\n",
            "Please adapt your code to use either `displot` (a figure-level function with\n",
            "similar flexibility) or `histplot` (an axes-level function for histograms).\n",
            "\n",
            "For a guide to updating your code to use the new functions, please see\n",
            "https://gist.github.com/mwaskom/de44147ed2974457ad6372750bbe5751\n",
            "\n",
            "  sns.distplot(data['temperature'],color='purple')\n",
            "<ipython-input-19-742ca7d1fb7a>:23: UserWarning: \n",
            "\n",
            "`distplot` is a deprecated function and will be removed in seaborn v0.14.0.\n",
            "\n",
            "Please adapt your code to use either `displot` (a figure-level function with\n",
            "similar flexibility) or `histplot` (an axes-level function for histograms).\n",
            "\n",
            "For a guide to updating your code to use the new functions, please see\n",
            "https://gist.github.com/mwaskom/de44147ed2974457ad6372750bbe5751\n",
            "\n",
            "  sns.distplot(data['humidity'],color='darkgreen')\n",
            "<ipython-input-19-742ca7d1fb7a>:28: UserWarning: \n",
            "\n",
            "`distplot` is a deprecated function and will be removed in seaborn v0.14.0.\n",
            "\n",
            "Please adapt your code to use either `displot` (a figure-level function with\n",
            "similar flexibility) or `histplot` (an axes-level function for histograms).\n",
            "\n",
            "For a guide to updating your code to use the new functions, please see\n",
            "https://gist.github.com/mwaskom/de44147ed2974457ad6372750bbe5751\n",
            "\n",
            "  sns.distplot(data['ph'],color='skyblue')\n",
            "<ipython-input-19-742ca7d1fb7a>:33: UserWarning: \n",
            "\n",
            "`distplot` is a deprecated function and will be removed in seaborn v0.14.0.\n",
            "\n",
            "Please adapt your code to use either `displot` (a figure-level function with\n",
            "similar flexibility) or `histplot` (an axes-level function for histograms).\n",
            "\n",
            "For a guide to updating your code to use the new functions, please see\n",
            "https://gist.github.com/mwaskom/de44147ed2974457ad6372750bbe5751\n",
            "\n",
            "  sns.distplot(data['rainfall'],color='orange')\n"
          ]
        },
        {
          "output_type": "display_data",
          "data": {
            "text/plain": [
              "<Figure size 1000x700 with 7 Axes>"
            ],
            "image/png": "[encoded data removed]"
          },
          "metadata": {}
        }
      ]
    },
    {
      "cell_type": "code",
      "source": [
        "## Using Filter Function\n",
        "print('Some Interesting Patterns')\n",
        "print('------------------------')\n",
        "print('Crops which require very high ratio of nitrogen content in soil:',data[data['N']>120]['label'].unique())\n",
        "print('Crops which require very high ratio of phosphorous content in soil:',data[data['P']>100]['label'].unique())\n",
        "print('Crops which require very high ratio of potassium content in soil:',data[data['K']>200]['label'].unique())\n",
        "print('Crops which require very high rainfall:',data[data['rainfall']>200]['label'].unique())\n",
        "print('Crops which require very low temperature:',data[data['temperature']<10]['label'].unique())\n",
        "print('Crops which require very high temperature:',data[data['temperature']>40]['label'].unique())\n",
        "print('Crops which require very low humidity:',data[data['humidity']<20]['label'].unique())\n",
        "print('Crops which require very low ph:',data[data['ph']<4]['label'].unique())\n",
        "print('Crops which require very high ph:',data[data['ph']>9]['label'].unique())"
      ],
      "metadata": {
        "id": "_8tnfUqGhNkK",
        "outputId": "ea485892-74c7-4865-f63d-b8dbe3e4b65b",
        "colab": {
          "base_uri": "https://localhost:8080/"
        }
      },
      "execution_count": null,
      "outputs": [
        {
          "output_type": "stream",
          "name": "stdout",
          "text": [
            "Some Interesting Patterns\n",
            "------------------------\n",
            "Crops which require very high ratio of nitrogen content in soil: ['cotton']\n",
            "Crops which require very high ratio of phosphorous content in soil: ['grapes' 'apple']\n",
            "Crops which require very high ratio of potassium content in soil: ['grapes' 'apple']\n",
            "Crops which require very high rainfall: ['rice' 'papaya' 'coconut']\n",
            "Crops which require very low temperature: ['grapes']\n",
            "Crops which require very high temperature: ['grapes' 'papaya']\n",
            "Crops which require very low humidity: ['chickpea' 'kidneybeans']\n",
            "Crops which require very low ph: ['mothbeans']\n",
            "Crops which require very high ph: ['mothbeans']\n"
          ]
        }
      ]
    },
    {
      "cell_type": "code",
      "source": [
        "# Let's understand which crops can only be grown in summer season,winter season and rainy season.\n",
        "print('Summer Crops')\n",
        "print(data[(data['temperature']>30)&(data['humidity']>50)]['label'].unique())\n",
        "print('-------------------------------------------------')\n",
        "print('Winter Crops')\n",
        "print(data[(data['temperature']<20)&(data['humidity']>30)]['label'].unique())\n",
        "print('-------------------------------------------------')\n",
        "print('Rainy Crops')\n",
        "print(data[(data['rainfall']>200)&(data['humidity']>30)]['label'].unique())"
      ],
      "metadata": {
        "id": "7dI6BQ8UhWkj",
        "outputId": "da40aa32-f883-4a1b-ef1a-70148427440a",
        "colab": {
          "base_uri": "https://localhost:8080/"
        }
      },
      "execution_count": null,
      "outputs": [
        {
          "output_type": "stream",
          "name": "stdout",
          "text": [
            "Summer Crops\n",
            "['pigeonpeas' 'mothbeans' 'blackgram' 'mango' 'grapes' 'orange' 'papaya']\n",
            "-------------------------------------------------\n",
            "Winter Crops\n",
            "['maize' 'pigeonpeas' 'lentil' 'pomegranate' 'grapes' 'orange']\n",
            "-------------------------------------------------\n",
            "Rainy Crops\n",
            "['rice' 'papaya' 'coconut']\n"
          ]
        }
      ]
    },
    {
      "cell_type": "markdown",
      "source": [
        "# **Clustering**\n",
        "\n",
        "### Clustering analysis is a technique that is used to classified data points in to relative groups. we can assign similar data points in one group. same as we can build different different groups. clustering analysis can be count in unsupervised category. That means we can train our model without labels."
      ],
      "metadata": {
        "id": "s2F-84WdhwwT"
      }
    },
    {
      "cell_type": "code",
      "source": [
        "from sklearn.cluster import KMeans\n",
        "\n",
        "#removing the labels column\n",
        "x=data.drop(['label'],axis=1)\n",
        "\n",
        "#selecting all the values of the data\n",
        "x=x.values\n",
        "\n",
        "#checking the shape\n",
        "print(x.shape)"
      ],
      "metadata": {
        "id": "NCAe_sECiAl3",
        "outputId": "19405926-6593-4681-a991-0021c84c4598",
        "colab": {
          "base_uri": "https://localhost:8080/"
        }
      },
      "execution_count": null,
      "outputs": [
        {
          "output_type": "stream",
          "name": "stdout",
          "text": [
            "(2200, 7)\n"
          ]
        }
      ]
    },
    {
      "cell_type": "markdown",
      "source": [
        "### To perform cluster analysisi first thing is that we have to know that there is how many clusters and how many clusters we need so for this we will use Elbow method.\n",
        "\n",
        "Elbow method is way from that we can find how many clusters our model required, in this method we will plot no. of clusters with errors and find the Elbow. At which no. we will find the elbow that no. of clusters will be optimum for our model .(Elbow is a slite band)."
      ],
      "metadata": {
        "id": "oCyqNWtgiGKK"
      }
    },
    {
      "cell_type": "code",
      "source": [
        "# Let's determine the optimum no. of clusters within dataset\n",
        "\n",
        "plt.rcParams['figure.figsize']=(10,4)\n",
        "wcss=[]\n",
        "for i in range(1,11):\n",
        "    km=KMeans(n_clusters=i,init='k-means++',max_iter=300,n_init=10,random_state=0)\n",
        "    km.fit(x)\n",
        "    wcss.append(km.inertia_)\n",
        "\n",
        "\n",
        "#Let's plot the results\n",
        "plt.plot(range(1,11),wcss)\n",
        "plt.title('The Elbow Method',fontsize=20)\n",
        "plt.xlabel('No. Of Clusters')\n",
        "plt.ylabel('wcss')\n",
        "plt.show()"
      ],
      "metadata": {
        "id": "qqOwwRf7iV0T",
        "outputId": "d25834b0-f333-4f94-a8d6-5c1ebd100960",
        "colab": {
          "base_uri": "https://localhost:8080/",
          "height": 418
        }
      },
      "execution_count": null,
      "outputs": [
        {
          "output_type": "display_data",
          "data": {
            "text/plain": [
              "<Figure size 1000x400 with 1 Axes>"
            ],
            "image/png": "[encoded data removed]"
          },
          "metadata": {}
        }
      ]
    },
    {
      "cell_type": "markdown",
      "source": [
        "### So here is two elbow points one is on 3 and second is on 4.\n",
        "**Ques:- Which one should we choose?**\n",
        "\n",
        "*   ans:- Simply the last one we will choose which is 4.\n",
        "\n",
        "### Now we will impliment clustering so in this first of all we will specify KMeans function and in that we will define compulsory parameter N with the optimal no. of clusters.\n",
        "\n",
        "\n"
      ],
      "metadata": {
        "id": "CQCf9Hopigwo"
      }
    },
    {
      "cell_type": "code",
      "source": [
        "# Let's implement the K Means algorithm to perform clustering analysis.\n",
        "km=KMeans(n_clusters=4,init='k-means++',max_iter=300,n_init=10,random_state=0)\n",
        "y_means=km.fit_predict(x)\n",
        "\n",
        "#Let's find out the results\n",
        "a=data['label']\n",
        "y_means=pd.DataFrame(y_means)\n",
        "z=pd.concat([y_means,a],axis=1)\n",
        "z=z.rename(columns={0:'cluster'})\n",
        "\n",
        "#let's clusters of each crops\n",
        "print(\"Let's check the results after applying the KMeans clustering analysis \\n\")\n",
        "print('crops in first cluster:',z[z['cluster']==0]['label'].unique())\n",
        "print('---------------------------------------------------------')\n",
        "print('crops in second cluster:',z[z['cluster']==1]['label'].unique())\n",
        "print('---------------------------------------------------------')\n",
        "print('crops in third cluster:',z[z['cluster']==2]['label'].unique())\n",
        "print('---------------------------------------------------------')\n",
        "print('crops in fourth cluster:',z[z['cluster']==3]['label'].unique())"
      ],
      "metadata": {
        "id": "MfFrj1GKjLEA",
        "outputId": "7ca85126-b539-46c3-d806-1ee44d5a18f2",
        "colab": {
          "base_uri": "https://localhost:8080/"
        }
      },
      "execution_count": null,
      "outputs": [
        {
          "output_type": "stream",
          "name": "stdout",
          "text": [
            "Let's check the results after applying the KMeans clustering analysis \n",
            "\n",
            "crops in first cluster: ['maize' 'chickpea' 'kidneybeans' 'pigeonpeas' 'mothbeans' 'mungbean'\n",
            " 'blackgram' 'lentil' 'pomegranate' 'mango' 'orange' 'papaya' 'coconut']\n",
            "---------------------------------------------------------\n",
            "crops in second cluster: ['maize' 'banana' 'watermelon' 'muskmelon' 'papaya' 'cotton' 'coffee']\n",
            "---------------------------------------------------------\n",
            "crops in third cluster: ['grapes' 'apple']\n",
            "---------------------------------------------------------\n",
            "crops in fourth cluster: ['rice' 'pigeonpeas' 'papaya' 'coconut' 'jute' 'coffee']\n"
          ]
        }
      ]
    },
    {
      "cell_type": "markdown",
      "source": [
        "# **Predictive Model**\n",
        "\n",
        "## Predictive model says us the sutaible crops for every specific conditions and for making this predictice model we will use machine learning model for train the dataset.\n",
        "\n",
        "###Predictive modeling is also a part of AI . In any predictiive model we will make a model by using our dataset and finally when the model will train at that time we make the predictions for unseen data by using that model.\n",
        "\n",
        "###In the whole process machine learning model will make the decisions rules from the data with the help of every patterns &trends which are very helpful in the final predictions."
      ],
      "metadata": {
        "id": "AEQkZH2rjaEi"
      }
    },
    {
      "cell_type": "markdown",
      "source": [
        "# How can you trust a model that gives us right predictions?\n",
        "\n",
        "### To check the model perfomance we have many differents types of evaluation matrixes. With the help of these matrixes we can find how much accurate is our model and how much trust we can on our model."
      ],
      "metadata": {
        "id": "B41mZdu9kq7u"
      }
    },
    {
      "cell_type": "markdown",
      "source": [
        "# Evaluation Matrix:-\n",
        "### We use the evaluation matrix to analysis the perfomance and trust of our model. Evaluation matrix gives us a accuracy score and with the help of that score we can understand how much our model is accurate."
      ],
      "metadata": {
        "id": "cxtckyqrk7Ha"
      }
    },
    {
      "cell_type": "code",
      "source": [
        "# Let's drop the label from dataset\n",
        "y=data['label']\n",
        "x=data.drop(['label'],axis=1)\n",
        "print('shape of x:',x.shape)\n",
        "print('shape of y:',y.shape)"
      ],
      "metadata": {
        "id": "RYUvJJI9lKue",
        "outputId": "40c2fc58-13dc-4de5-c77f-518bd908f869",
        "colab": {
          "base_uri": "https://localhost:8080/"
        }
      },
      "execution_count": null,
      "outputs": [
        {
          "output_type": "stream",
          "name": "stdout",
          "text": [
            "shape of x: (2200, 7)\n",
            "shape of y: (2200,)\n"
          ]
        }
      ]
    },
    {
      "cell_type": "code",
      "source": [
        "#let's create training and testing sets for vaildation of results\n",
        "from sklearn.model_selection import train_test_split\n",
        "\n",
        "x_train,x_test,y_train,y_test=train_test_split(x,y,test_size=0.2,random_state=0)\n",
        "\n",
        "print('The shape of x train:',x_train.shape)\n",
        "print('The shape of x test:',x_test.shape)\n",
        "print('The shape of y train:',y_train.shape)\n",
        "print('The shape of y test:',y_test.shape)"
      ],
      "metadata": {
        "id": "vv92g9whlMdp",
        "outputId": "d4421815-63cd-48a2-92f3-cd794fd9f5fd",
        "colab": {
          "base_uri": "https://localhost:8080/"
        }
      },
      "execution_count": null,
      "outputs": [
        {
          "output_type": "stream",
          "name": "stdout",
          "text": [
            "The shape of x train: (1760, 7)\n",
            "The shape of x test: (440, 7)\n",
            "The shape of y train: (1760,)\n",
            "The shape of y test: (440,)\n"
          ]
        }
      ]
    },
    {
      "cell_type": "markdown",
      "source": [
        "Here 0.2 is use for spliting the data into 80:20 ratio that means 80% data will go in train dataset and 20% data will go in th test dataset."
      ],
      "metadata": {
        "id": "eQNywSwplYcG"
      }
    },
    {
      "cell_type": "code",
      "source": [
        "#let's create a predictive model\n",
        "from sklearn.linear_model import LogisticRegression\n",
        "\n",
        "model=LogisticRegression()\n",
        "model=model.fit(x_train,y_train)\n",
        "y_pred=model.predict(x_test)"
      ],
      "metadata": {
        "id": "7nSMfRfdl2_I",
        "outputId": "a3887469-c88a-43ce-d600-40465c7bf04c",
        "colab": {
          "base_uri": "https://localhost:8080/"
        }
      },
      "execution_count": null,
      "outputs": [
        {
          "output_type": "stream",
          "name": "stderr",
          "text": [
            "/usr/local/lib/python3.10/dist-packages/sklearn/linear_model/_logistic.py:458: ConvergenceWarning: lbfgs failed to converge (status=1):\n",
            "STOP: TOTAL NO. of ITERATIONS REACHED LIMIT.\n",
            "\n",
            "Increase the number of iterations (max_iter) or scale the data as shown in:\n",
            "    https://scikit-learn.org/stable/modules/preprocessing.html\n",
            "Please also refer to the documentation for alternative solver options:\n",
            "    https://scikit-learn.org/stable/modules/linear_model.html#logistic-regression\n",
            "  n_iter_i = _check_optimize_result(\n"
          ]
        }
      ]
    },
    {
      "cell_type": "code",
      "source": [
        "#Let's check the accuracy of model\n",
        "#First we will do prediction on test data\n",
        "#Let's calculate the model perfomance\n",
        "from sklearn.metrics import confusion_matrix\n",
        "\n",
        "#Let's print the confusion matrix first\n",
        "plt.rcParams['figure.figsize']=(10,10)\n",
        "cm=confusion_matrix(y_test,y_pred)\n",
        "sns.heatmap(cm,annot=True,cmap=\"Wistia\")\n",
        "plt.title('Confusion Matrix For Logistic Regression',fontsize=15)\n",
        "plt.show()"
      ],
      "metadata": {
        "id": "17AwHG6Pl9YI",
        "outputId": "2043374f-bc93-4f42-c436-5ae666e1dac2",
        "colab": {
          "base_uri": "https://localhost:8080/",
          "height": 855
        }
      },
      "execution_count": null,
      "outputs": [
        {
          "output_type": "display_data",
          "data": {
            "text/plain": [
              "<Figure size 1000x1000 with 2 Axes>"
            ],
            "image/png": "[encoded data removed]"
          },
          "metadata": {}
        }
      ]
    },
    {
      "cell_type": "code",
      "source": [
        "# let's print the classification report also\n",
        "from sklearn.metrics import classification_report\n",
        "cr = classification_report(y_test,y_pred)\n",
        "print(cr)"
      ],
      "metadata": {
        "id": "s4iaemPqmM4W",
        "outputId": "ced33a46-7d0a-4bfc-b00f-48b6c48e1316",
        "colab": {
          "base_uri": "https://localhost:8080/"
        }
      },
      "execution_count": null,
      "outputs": [
        {
          "output_type": "stream",
          "name": "stdout",
          "text": [
            "              precision    recall  f1-score   support\n",
            "\n",
            "       apple       1.00      1.00      1.00        18\n",
            "      banana       1.00      1.00      1.00        18\n",
            "   blackgram       0.86      0.82      0.84        22\n",
            "    chickpea       1.00      1.00      1.00        23\n",
            "     coconut       1.00      1.00      1.00        15\n",
            "      coffee       1.00      1.00      1.00        17\n",
            "      cotton       0.89      1.00      0.94        16\n",
            "      grapes       1.00      1.00      1.00        18\n",
            "        jute       0.84      1.00      0.91        21\n",
            " kidneybeans       1.00      1.00      1.00        20\n",
            "      lentil       0.94      0.94      0.94        17\n",
            "       maize       0.94      0.89      0.91        18\n",
            "       mango       1.00      1.00      1.00        21\n",
            "   mothbeans       0.88      0.92      0.90        25\n",
            "    mungbean       1.00      1.00      1.00        17\n",
            "   muskmelon       1.00      1.00      1.00        23\n",
            "      orange       1.00      1.00      1.00        23\n",
            "      papaya       1.00      0.95      0.98        21\n",
            "  pigeonpeas       1.00      1.00      1.00        22\n",
            " pomegranate       1.00      1.00      1.00        23\n",
            "        rice       1.00      0.84      0.91        25\n",
            "  watermelon       1.00      1.00      1.00        17\n",
            "\n",
            "    accuracy                           0.97       440\n",
            "   macro avg       0.97      0.97      0.97       440\n",
            "weighted avg       0.97      0.97      0.97       440\n",
            "\n"
          ]
        }
      ]
    },
    {
      "cell_type": "markdown",
      "source": [
        "In this precision values and recall values of all crops are very high that means our model is very accurate."
      ],
      "metadata": {
        "id": "9N-LmaCMmTVd"
      }
    },
    {
      "cell_type": "code",
      "source": [
        "#let's check the head of the dataset\n",
        "data.head()"
      ],
      "metadata": {
        "id": "aL0laiGWmUQJ",
        "outputId": "9b0eee4d-bf42-4b80-9fe8-661e026e4846",
        "colab": {
          "base_uri": "https://localhost:8080/",
          "height": 206
        }
      },
      "execution_count": null,
      "outputs": [
        {
          "output_type": "execute_result",
          "data": {
            "text/plain": [
              "    N   P   K  temperature   humidity        ph    rainfall label\n",
              "0  90  42  43    20.879744  82.002744  6.502985  202.935536  rice\n",
              "1  85  58  41    21.770462  80.319644  7.038096  226.655537  rice\n",
              "2  60  55  44    23.004459  82.320763  7.840207  263.964248  rice\n",
              "3  74  35  40    26.491096  80.158363  6.980401  242.864034  rice\n",
              "4  78  42  42    20.130175  81.604873  7.628473  262.717340  rice"
            ],
            "text/html": [
              "\n",
              "  <div id=\"df-2161eaec-9985-4d89-969e-b827fd17d184\" class=\"colab-df-container\">\n",
              "    <div>\n",
              "<style scoped>\n",
              "    .dataframe tbody tr th:only-of-type {\n",
              "        vertical-align: middle;\n",
              "    }\n",
              "\n",
              "    .dataframe tbody tr th {\n",
              "        vertical-align: top;\n",
              "    }\n",
              "\n",
              "    .dataframe thead th {\n",
              "        text-align: right;\n",
              "    }\n",
              "</style>\n",
              "<table border=\"1\" class=\"dataframe\">\n",
              "  <thead>\n",
              "    <tr style=\"text-align: right;\">\n",
              "      <th></th>\n",
              "      <th>N</th>\n",
              "      <th>P</th>\n",
              "      <th>K</th>\n",
              "      <th>temperature</th>\n",
              "      <th>humidity</th>\n",
              "      <th>ph</th>\n",
              "      <th>rainfall</th>\n",
              "      <th>label</th>\n",
              "    </tr>\n",
              "  </thead>\n",
              "  <tbody>\n",
              "    <tr>\n",
              "      <th>0</th>\n",
              "      <td>90</td>\n",
              "      <td>42</td>\n",
              "      <td>43</td>\n",
              "      <td>20.879744</td>\n",
              "      <td>82.002744</td>\n",
              "      <td>6.502985</td>\n",
              "      <td>202.935536</td>\n",
              "      <td>rice</td>\n",
              "    </tr>\n",
              "    <tr>\n",
              "      <th>1</th>\n",
              "      <td>85</td>\n",
              "      <td>58</td>\n",
              "      <td>41</td>\n",
              "      <td>21.770462</td>\n",
              "      <td>80.319644</td>\n",
              "      <td>7.038096</td>\n",
              "      <td>226.655537</td>\n",
              "      <td>rice</td>\n",
              "    </tr>\n",
              "    <tr>\n",
              "      <th>2</th>\n",
              "      <td>60</td>\n",
              "      <td>55</td>\n",
              "      <td>44</td>\n",
              "      <td>23.004459</td>\n",
              "      <td>82.320763</td>\n",
              "      <td>7.840207</td>\n",
              "      <td>263.964248</td>\n",
              "      <td>rice</td>\n",
              "    </tr>\n",
              "    <tr>\n",
              "      <th>3</th>\n",
              "      <td>74</td>\n",
              "      <td>35</td>\n",
              "      <td>40</td>\n",
              "      <td>26.491096</td>\n",
              "      <td>80.158363</td>\n",
              "      <td>6.980401</td>\n",
              "      <td>242.864034</td>\n",
              "      <td>rice</td>\n",
              "    </tr>\n",
              "    <tr>\n",
              "      <th>4</th>\n",
              "      <td>78</td>\n",
              "      <td>42</td>\n",
              "      <td>42</td>\n",
              "      <td>20.130175</td>\n",
              "      <td>81.604873</td>\n",
              "      <td>7.628473</td>\n",
              "      <td>262.717340</td>\n",
              "      <td>rice</td>\n",
              "    </tr>\n",
              "  </tbody>\n",
              "</table>\n",
              "</div>\n",
              "    <div class=\"colab-df-buttons\">\n",
              "\n",
              "  <div class=\"colab-df-container\">\n",
              "    <button class=\"colab-df-convert\" onclick=\"convertToInteractive('df-2161eaec-9985-4d89-969e-b827fd17d184')\"\n",
              "            title=\"Convert this dataframe to an interactive table.\"\n",
              "            style=\"display:none;\">\n",
              "\n",
              "  <svg xmlns=\"http://www.w3.org/2000/svg\" height=\"24px\" viewBox=\"0 -960 960 960\">\n",
              "    <path d=\"M120-120v-720h720v720H120Zm60-500h600v-160H180v160Zm220 220h160v-160H400v160Zm0 220h160v-160H400v160ZM180-400h160v-160H180v160Zm440 0h160v-160H620v160ZM180-180h160v-160H180v160Zm440 0h160v-160H620v160Z\"/>\n",
              "  </svg>\n",
              "    </button>\n",
              "\n",
              "  <style>\n",
              "    .colab-df-container {\n",
              "      display:flex;\n",
              "      gap: 12px;\n",
              "    }\n",
              "\n",
              "    .colab-df-convert {\n",
              "      background-color: #E8F0FE;\n",
              "      border: none;\n",
              "      border-radius: 50%;\n",
              "      cursor: pointer;\n",
              "      display: none;\n",
              "      fill: #1967D2;\n",
              "      height: 32px;\n",
              "      padding: 0 0 0 0;\n",
              "      width: 32px;\n",
              "    }\n",
              "\n",
              "    .colab-df-convert:hover {\n",
              "      background-color: #E2EBFA;\n",
              "      box-shadow: 0px 1px 2px rgba(60, 64, 67, 0.3), 0px 1px 3px 1px rgba(60, 64, 67, 0.15);\n",
              "      fill: #174EA6;\n",
              "    }\n",
              "\n",
              "    .colab-df-buttons div {\n",
              "      margin-bottom: 4px;\n",
              "    }\n",
              "\n",
              "    [theme=dark] .colab-df-convert {\n",
              "      background-color: #3B4455;\n",
              "      fill: #D2E3FC;\n",
              "    }\n",
              "\n",
              "    [theme=dark] .colab-df-convert:hover {\n",
              "      background-color: #434B5C;\n",
              "      box-shadow: 0px 1px 3px 1px rgba(0, 0, 0, 0.15);\n",
              "      filter: drop-shadow(0px 1px 2px rgba(0, 0, 0, 0.3));\n",
              "      fill: #FFFFFF;\n",
              "    }\n",
              "  </style>\n",
              "\n",
              "    <script>\n",
              "      const buttonEl =\n",
              "        document.querySelector('#df-2161eaec-9985-4d89-969e-b827fd17d184 button.colab-df-convert');\n",
              "      buttonEl.style.display =\n",
              "        google.colab.kernel.accessAllowed ? 'block' : 'none';\n",
              "\n",
              "      async function convertToInteractive(key) {\n",
              "        const element = document.querySelector('#df-2161eaec-9985-4d89-969e-b827fd17d184');\n",
              "        const dataTable =\n",
              "          await google.colab.kernel.invokeFunction('convertToInteractive',\n",
              "                                                    [key], {});\n",
              "        if (!dataTable) return;\n",
              "\n",
              "        const docLinkHtml = 'Like what you see? Visit the ' +\n",
              "          '<a target=\"_blank\" href=https://colab.research.google.com/notebooks/data_table.ipynb>data table notebook</a>'\n",
              "          + ' to learn more about interactive tables.';\n",
              "        element.innerHTML = '';\n",
              "        dataTable['output_type'] = 'display_data';\n",
              "        await google.colab.output.renderOutput(dataTable, element);\n",
              "        const docLink = document.createElement('div');\n",
              "        docLink.innerHTML = docLinkHtml;\n",
              "        element.appendChild(docLink);\n",
              "      }\n",
              "    </script>\n",
              "  </div>\n",
              "\n",
              "\n",
              "<div id=\"df-cdf7b068-b606-4873-80e7-411c69b9c693\">\n",
              "  <button class=\"colab-df-quickchart\" onclick=\"quickchart('df-cdf7b068-b606-4873-80e7-411c69b9c693')\"\n",
              "            title=\"Suggest charts.\"\n",
              "            style=\"display:none;\">\n",
              "\n",
              "<svg xmlns=\"http://www.w3.org/2000/svg\" height=\"24px\"viewBox=\"0 0 24 24\"\n",
              "     width=\"24px\">\n",
              "    <g>\n",
              "        <path d=\"M19 3H5c-1.1 0-2 .9-2 2v14c0 1.1.9 2 2 2h14c1.1 0 2-.9 2-2V5c0-1.1-.9-2-2-2zM9 17H7v-7h2v7zm4 0h-2V7h2v10zm4 0h-2v-4h2v4z\"/>\n",
              "    </g>\n",
              "</svg>\n",
              "  </button>\n",
              "\n",
              "<style>\n",
              "  .colab-df-quickchart {\n",
              "      --bg-color: #E8F0FE;\n",
              "      --fill-color: #1967D2;\n",
              "      --hover-bg-color: #E2EBFA;\n",
              "      --hover-fill-color: #174EA6;\n",
              "      --disabled-fill-color: #AAA;\n",
              "      --disabled-bg-color: #DDD;\n",
              "  }\n",
              "\n",
              "  [theme=dark] .colab-df-quickchart {\n",
              "      --bg-color: #3B4455;\n",
              "      --fill-color: #D2E3FC;\n",
              "      --hover-bg-color: #434B5C;\n",
              "      --hover-fill-color: #FFFFFF;\n",
              "      --disabled-bg-color: #3B4455;\n",
              "      --disabled-fill-color: #666;\n",
              "  }\n",
              "\n",
              "  .colab-df-quickchart {\n",
              "    background-color: var(--bg-color);\n",
              "    border: none;\n",
              "    border-radius: 50%;\n",
              "    cursor: pointer;\n",
              "    display: none;\n",
              "    fill: var(--fill-color);\n",
              "    height: 32px;\n",
              "    padding: 0;\n",
              "    width: 32px;\n",
              "  }\n",
              "\n",
              "  .colab-df-quickchart:hover {\n",
              "    background-color: var(--hover-bg-color);\n",
              "    box-shadow: 0 1px 2px rgba(60, 64, 67, 0.3), 0 1px 3px 1px rgba(60, 64, 67, 0.15);\n",
              "    fill: var(--button-hover-fill-color);\n",
              "  }\n",
              "\n",
              "  .colab-df-quickchart-complete:disabled,\n",
              "  .colab-df-quickchart-complete:disabled:hover {\n",
              "    background-color: var(--disabled-bg-color);\n",
              "    fill: var(--disabled-fill-color);\n",
              "    box-shadow: none;\n",
              "  }\n",
              "\n",
              "  .colab-df-spinner {\n",
              "    border: 2px solid var(--fill-color);\n",
              "    border-color: transparent;\n",
              "    border-bottom-color: var(--fill-color);\n",
              "    animation:\n",
              "      spin 1s steps(1) infinite;\n",
              "  }\n",
              "\n",
              "  @keyframes spin {\n",
              "    0% {\n",
              "      border-color: transparent;\n",
              "      border-bottom-color: var(--fill-color);\n",
              "      border-left-color: var(--fill-color);\n",
              "    }\n",
              "    20% {\n",
              "      border-color: transparent;\n",
              "      border-left-color: var(--fill-color);\n",
              "      border-top-color: var(--fill-color);\n",
              "    }\n",
              "    30% {\n",
              "      border-color: transparent;\n",
              "      border-left-color: var(--fill-color);\n",
              "      border-top-color: var(--fill-color);\n",
              "      border-right-color: var(--fill-color);\n",
              "    }\n",
              "    40% {\n",
              "      border-color: transparent;\n",
              "      border-right-color: var(--fill-color);\n",
              "      border-top-color: var(--fill-color);\n",
              "    }\n",
              "    60% {\n",
              "      border-color: transparent;\n",
              "      border-right-color: var(--fill-color);\n",
              "    }\n",
              "    80% {\n",
              "      border-color: transparent;\n",
              "      border-right-color: var(--fill-color);\n",
              "      border-bottom-color: var(--fill-color);\n",
              "    }\n",
              "    90% {\n",
              "      border-color: transparent;\n",
              "      border-bottom-color: var(--fill-color);\n",
              "    }\n",
              "  }\n",
              "</style>\n",
              "\n",
              "  <script>\n",
              "    async function quickchart(key) {\n",
              "      const quickchartButtonEl =\n",
              "        document.querySelector('#' + key + ' button');\n",
              "      quickchartButtonEl.disabled = true;  // To prevent multiple clicks.\n",
              "      quickchartButtonEl.classList.add('colab-df-spinner');\n",
              "      try {\n",
              "        const charts = await google.colab.kernel.invokeFunction(\n",
              "            'suggestCharts', [key], {});\n",
              "      } catch (error) {\n",
              "        console.error('Error during call to suggestCharts:', error);\n",
              "      }\n",
              "      quickchartButtonEl.classList.remove('colab-df-spinner');\n",
              "      quickchartButtonEl.classList.add('colab-df-quickchart-complete');\n",
              "    }\n",
              "    (() => {\n",
              "      let quickchartButtonEl =\n",
              "        document.querySelector('#df-cdf7b068-b606-4873-80e7-411c69b9c693 button');\n",
              "      quickchartButtonEl.style.display =\n",
              "        google.colab.kernel.accessAllowed ? 'block' : 'none';\n",
              "    })();\n",
              "  </script>\n",
              "</div>\n",
              "    </div>\n",
              "  </div>\n"
            ]
          },
          "metadata": {},
          "execution_count": 33
        }
      ]
    },
    {
      "cell_type": "code",
      "source": [
        "prediction=model.predict((np.array([[90,\n",
        "                                    42,\n",
        "                                    43,\n",
        "                                    20,\n",
        "                                    80,\n",
        "                                    7,\n",
        "                                    200]])))\n",
        "print('The suggested crop for given climatic condition is:',prediction)"
      ],
      "metadata": {
        "id": "oYLskd90maUC",
        "outputId": "f0783d16-5697-4329-aa75-5042770b6697",
        "colab": {
          "base_uri": "https://localhost:8080/"
        }
      },
      "execution_count": null,
      "outputs": [
        {
          "output_type": "stream",
          "name": "stdout",
          "text": [
            "The suggested crop for given climatic condition is: ['rice']\n"
          ]
        },
        {
          "output_type": "stream",
          "name": "stderr",
          "text": [
            "/usr/local/lib/python3.10/dist-packages/sklearn/base.py:439: UserWarning: X does not have valid feature names, but LogisticRegression was fitted with feature names\n",
            "  warnings.warn(\n"
          ]
        }
      ]
    }
  ],
  "metadata": {
    "colab": {
      "toc_visible": true,
      "provenance": []
    },
    "kernelspec": {
      "display_name": "Python 3",
      "name": "python3"
    },
    "widgets": {
      "application/vnd.jupyter.widget-state+json": {
        "b0dee51d8f3e4babab99fb639b91b2f7": {
          "model_module": "@jupyter-widgets/controls",
          "model_name": "VBoxModel",
          "model_module_version": "1.5.0",
          "state": {
            "_dom_classes": [
              "widget-interact"
            ],
            "_model_module": "@jupyter-widgets/controls",
            "_model_module_version": "1.5.0",
            "_model_name": "VBoxModel",
            "_view_count": null,
            "_view_module": "@jupyter-widgets/controls",
            "_view_module_version": "1.5.0",
            "_view_name": "VBoxView",
            "box_style": "",
            "children": [
              "IPY_MODEL_96e7397ac9654c4991978366a385b412",
              "IPY_MODEL_610b238ac6794d0487b8248412de5224"
            ],
            "layout": "IPY_MODEL_93b21dfbe8fb4efeae519f0a9dd90256"
          }
        },
        "96e7397ac9654c4991978366a385b412": {
          "model_module": "@jupyter-widgets/controls",
          "model_name": "DropdownModel",
          "model_module_version": "1.5.0",
          "state": {
            "_dom_classes": [],
            "_model_module": "@jupyter-widgets/controls",
            "_model_module_version": "1.5.0",
            "_model_name": "DropdownModel",
            "_options_labels": [
              "rice",
              "maize",
              "jute",
              "cotton",
              "coconut",
              "papaya",
              "orange",
              "apple",
              "muskmelon",
              "watermelon",
              "grapes",
              "mango",
              "banana",
              "pomegranate",
              "lentil",
              "blackgram",
              "mungbean",
              "mothbeans",
              "pigeonpeas",
              "kidneybeans",
              "chickpea",
              "coffee"
            ],
            "_view_count": null,
            "_view_module": "@jupyter-widgets/controls",
            "_view_module_version": "1.5.0",
            "_view_name": "DropdownView",
            "description": "crops",
            "description_tooltip": null,
            "disabled": false,
            "index": 18,
            "layout": "IPY_MODEL_c6a1ca48e0764b45a1327424fb3e1647",
            "style": "IPY_MODEL_c4b5aad26afb441a816da80fe0d9c4a9"
          }
        },
        "610b238ac6794d0487b8248412de5224": {
          "model_module": "@jupyter-widgets/output",
          "model_name": "OutputModel",
          "model_module_version": "1.0.0",
          "state": {
            "_dom_classes": [],
            "_model_module": "@jupyter-widgets/output",
            "_model_module_version": "1.0.0",
            "_model_name": "OutputModel",
            "_view_count": null,
            "_view_module": "@jupyter-widgets/output",
            "_view_module_version": "1.0.0",
            "_view_name": "OutputView",
            "layout": "IPY_MODEL_6aec4b2794a14e02848ecc1e2b3dc314",
            "msg_id": "",
            "outputs": [
              {
                "output_type": "stream",
                "name": "stdout",
                "text": [
                  "-----------------------------------------------\n",
                  "statistics for nitrogen\n",
                  "Minimum nitrogen required: 0\n",
                  "Average nitrogen required: 20.73\n",
                  "Maximum nitrogen required: 40\n",
                  "-----------------------------------------------\n",
                  "statistics for phosphorous\n",
                  "Minimum phosphorous required: 55\n",
                  "Average phosphorous required: 67.73\n",
                  "Maximum phosphorous required: 80\n",
                  "-----------------------------------------------\n",
                  "statistics for potassium\n",
                  "Minimum potassium required: 15\n",
                  "Average potassium required: 20.29\n",
                  "Maximum potassium required: 25\n",
                  "-----------------------------------------------\n",
                  "statistics for temperature\n",
                  "Minimum temperature required: 18.32\n",
                  "Average temperature required: 27.74\n",
                  "Maximum temperature required: 36.98\n",
                  "-----------------------------------------------\n",
                  "statistics for humidity\n",
                  "Minimum humidity required: 30.40\n",
                  "Average humidity required: 48.06\n",
                  "Maximum humidity required: 69.69\n",
                  "-----------------------------------------------\n",
                  "statistics for ph\n",
                  "Minimum ph required: 4.55\n",
                  "Average ph required: 5.79\n",
                  "Maximum ph required: 7.45\n",
                  "-----------------------------------------------\n",
                  "statistics for rainfall\n",
                  "Minimum rainfall required: 90.05\n",
                  "Average rainfall required: 149.46\n",
                  "Maximum rainfall required: 198.83\n"
                ]
              }
            ]
          }
        },
        "93b21dfbe8fb4efeae519f0a9dd90256": {
          "model_module": "@jupyter-widgets/base",
          "model_name": "LayoutModel",
          "model_module_version": "1.2.0",
          "state": {
            "_model_module": "@jupyter-widgets/base",
            "_model_module_version": "1.2.0",
            "_model_name": "LayoutModel",
            "_view_count": null,
            "_view_module": "@jupyter-widgets/base",
            "_view_module_version": "1.2.0",
            "_view_name": "LayoutView",
            "align_content": null,
            "align_items": null,
            "align_self": null,
            "border": null,
            "bottom": null,
            "display": null,
            "flex": null,
            "flex_flow": null,
            "grid_area": null,
            "grid_auto_columns": null,
            "grid_auto_flow": null,
            "grid_auto_rows": null,
            "grid_column": null,
            "grid_gap": null,
            "grid_row": null,
            "grid_template_areas": null,
            "grid_template_columns": null,
            "grid_template_rows": null,
            "height": null,
            "justify_content": null,
            "justify_items": null,
            "left": null,
            "margin": null,
            "max_height": null,
            "max_width": null,
            "min_height": null,
            "min_width": null,
            "object_fit": null,
            "object_position": null,
            "order": null,
            "overflow": null,
            "overflow_x": null,
            "overflow_y": null,
            "padding": null,
            "right": null,
            "top": null,
            "visibility": null,
            "width": null
          }
        },
        "c6a1ca48e0764b45a1327424fb3e1647": {
          "model_module": "@jupyter-widgets/base",
          "model_name": "LayoutModel",
          "model_module_version": "1.2.0",
          "state": {
            "_model_module": "@jupyter-widgets/base",
            "_model_module_version": "1.2.0",
            "_model_name": "LayoutModel",
            "_view_count": null,
            "_view_module": "@jupyter-widgets/base",
            "_view_module_version": "1.2.0",
            "_view_name": "LayoutView",
            "align_content": null,
            "align_items": null,
            "align_self": null,
            "border": null,
            "bottom": null,
            "display": null,
            "flex": null,
            "flex_flow": null,
            "grid_area": null,
            "grid_auto_columns": null,
            "grid_auto_flow": null,
            "grid_auto_rows": null,
            "grid_column": null,
            "grid_gap": null,
            "grid_row": null,
            "grid_template_areas": null,
            "grid_template_columns": null,
            "grid_template_rows": null,
            "height": null,
            "justify_content": null,
            "justify_items": null,
            "left": null,
            "margin": null,
            "max_height": null,
            "max_width": null,
            "min_height": null,
            "min_width": null,
            "object_fit": null,
            "object_position": null,
            "order": null,
            "overflow": null,
            "overflow_x": null,
            "overflow_y": null,
            "padding": null,
            "right": null,
            "top": null,
            "visibility": null,
            "width": null
          }
        },
        "c4b5aad26afb441a816da80fe0d9c4a9": {
          "model_module": "@jupyter-widgets/controls",
          "model_name": "DescriptionStyleModel",
          "model_module_version": "1.5.0",
          "state": {
            "_model_module": "@jupyter-widgets/controls",
            "_model_module_version": "1.5.0",
            "_model_name": "DescriptionStyleModel",
            "_view_count": null,
            "_view_module": "@jupyter-widgets/base",
            "_view_module_version": "1.2.0",
            "_view_name": "StyleView",
            "description_width": ""
          }
        },
        "6aec4b2794a14e02848ecc1e2b3dc314": {
          "model_module": "@jupyter-widgets/base",
          "model_name": "LayoutModel",
          "model_module_version": "1.2.0",
          "state": {
            "_model_module": "@jupyter-widgets/base",
            "_model_module_version": "1.2.0",
            "_model_name": "LayoutModel",
            "_view_count": null,
            "_view_module": "@jupyter-widgets/base",
            "_view_module_version": "1.2.0",
            "_view_name": "LayoutView",
            "align_content": null,
            "align_items": null,
            "align_self": null,
            "border": null,
            "bottom": null,
            "display": null,
            "flex": null,
            "flex_flow": null,
            "grid_area": null,
            "grid_auto_columns": null,
            "grid_auto_flow": null,
            "grid_auto_rows": null,
            "grid_column": null,
            "grid_gap": null,
            "grid_row": null,
            "grid_template_areas": null,
            "grid_template_columns": null,
            "grid_template_rows": null,
            "height": null,
            "justify_content": null,
            "justify_items": null,
            "left": null,
            "margin": null,
            "max_height": null,
            "max_width": null,
            "min_height": null,
            "min_width": null,
            "object_fit": null,
            "object_position": null,
            "order": null,
            "overflow": null,
            "overflow_x": null,
            "overflow_y": null,
            "padding": null,
            "right": null,
            "top": null,
            "visibility": null,
            "width": null
          }
        },
        "230304a45e1d40eb8e2e5f349ca592fd": {
          "model_module": "@jupyter-widgets/controls",
          "model_name": "VBoxModel",
          "model_module_version": "1.5.0",
          "state": {
            "_dom_classes": [
              "widget-interact"
            ],
            "_model_module": "@jupyter-widgets/controls",
            "_model_module_version": "1.5.0",
            "_model_name": "VBoxModel",
            "_view_count": null,
            "_view_module": "@jupyter-widgets/controls",
            "_view_module_version": "1.5.0",
            "_view_name": "VBoxView",
            "box_style": "",
            "children": [
              "IPY_MODEL_66a8af35c59c449b9527801ad68bcffa",
              "IPY_MODEL_ebfb8af5101d443092043c779e7a7241"
            ],
            "layout": "IPY_MODEL_24c79ea276e843709996ba64ab4d555f"
          }
        },
        "66a8af35c59c449b9527801ad68bcffa": {
          "model_module": "@jupyter-widgets/controls",
          "model_name": "DropdownModel",
          "model_module_version": "1.5.0",
          "state": {
            "_dom_classes": [],
            "_model_module": "@jupyter-widgets/controls",
            "_model_module_version": "1.5.0",
            "_model_name": "DropdownModel",
            "_options_labels": [
              "N",
              "K",
              "P",
              "temperature",
              "ph",
              "humidity",
              "rainfall"
            ],
            "_view_count": null,
            "_view_module": "@jupyter-widgets/controls",
            "_view_module_version": "1.5.0",
            "_view_name": "DropdownView",
            "description": "conditions",
            "description_tooltip": null,
            "disabled": false,
            "index": 0,
            "layout": "IPY_MODEL_5a8991900bb14dbbaf72bea0bc1ae973",
            "style": "IPY_MODEL_e7fd62e852bf403b975bb620f2a43821"
          }
        },
        "ebfb8af5101d443092043c779e7a7241": {
          "model_module": "@jupyter-widgets/output",
          "model_name": "OutputModel",
          "model_module_version": "1.0.0",
          "state": {
            "_dom_classes": [],
            "_model_module": "@jupyter-widgets/output",
            "_model_module_version": "1.0.0",
            "_model_name": "OutputModel",
            "_view_count": null,
            "_view_module": "@jupyter-widgets/output",
            "_view_module_version": "1.0.0",
            "_view_name": "OutputView",
            "layout": "IPY_MODEL_09a11b1bcc7e40048bf0534f7d46ae70",
            "msg_id": "",
            "outputs": [
              {
                "output_type": "stream",
                "name": "stdout",
                "text": [
                  "Average value for N is 50.55\n",
                  "----------------------------------------------------------------------\n",
                  "Rice:79.89\n",
                  "Black Grams:40.02\n",
                  "Banana:100.23\n",
                  "Jute:78.40\n",
                  "Coconut:21.98\n",
                  "Apple:20.80\n",
                  "Papaya:49.88\n",
                  "Muskmelon:100.32\n",
                  "Grapes:23.18\n",
                  "Watermelon:99.42\n",
                  "Kidney Beans:20.75\n",
                  "Mung Beans:nan\n",
                  "Oranges:nan\n",
                  "Chick Peas:nan\n",
                  "Lentils:nan\n",
                  "Cotton:117.77\n",
                  "Maize:77.76\n",
                  "Moth Beans:21.44\n",
                  "Pigeon Beans:nan\n",
                  "Mango:20.07\n",
                  "Pomegranate:18.87\n",
                  "Coffee:101.20\n"
                ]
              }
            ]
          }
        },
        "24c79ea276e843709996ba64ab4d555f": {
          "model_module": "@jupyter-widgets/base",
          "model_name": "LayoutModel",
          "model_module_version": "1.2.0",
          "state": {
            "_model_module": "@jupyter-widgets/base",
            "_model_module_version": "1.2.0",
            "_model_name": "LayoutModel",
            "_view_count": null,
            "_view_module": "@jupyter-widgets/base",
            "_view_module_version": "1.2.0",
            "_view_name": "LayoutView",
            "align_content": null,
            "align_items": null,
            "align_self": null,
            "border": null,
            "bottom": null,
            "display": null,
            "flex": null,
            "flex_flow": null,
            "grid_area": null,
            "grid_auto_columns": null,
            "grid_auto_flow": null,
            "grid_auto_rows": null,
            "grid_column": null,
            "grid_gap": null,
            "grid_row": null,
            "grid_template_areas": null,
            "grid_template_columns": null,
            "grid_template_rows": null,
            "height": null,
            "justify_content": null,
            "justify_items": null,
            "left": null,
            "margin": null,
            "max_height": null,
            "max_width": null,
            "min_height": null,
            "min_width": null,
            "object_fit": null,
            "object_position": null,
            "order": null,
            "overflow": null,
            "overflow_x": null,
            "overflow_y": null,
            "padding": null,
            "right": null,
            "top": null,
            "visibility": null,
            "width": null
          }
        },
        "5a8991900bb14dbbaf72bea0bc1ae973": {
          "model_module": "@jupyter-widgets/base",
          "model_name": "LayoutModel",
          "model_module_version": "1.2.0",
          "state": {
            "_model_module": "@jupyter-widgets/base",
            "_model_module_version": "1.2.0",
            "_model_name": "LayoutModel",
            "_view_count": null,
            "_view_module": "@jupyter-widgets/base",
            "_view_module_version": "1.2.0",
            "_view_name": "LayoutView",
            "align_content": null,
            "align_items": null,
            "align_self": null,
            "border": null,
            "bottom": null,
            "display": null,
            "flex": null,
            "flex_flow": null,
            "grid_area": null,
            "grid_auto_columns": null,
            "grid_auto_flow": null,
            "grid_auto_rows": null,
            "grid_column": null,
            "grid_gap": null,
            "grid_row": null,
            "grid_template_areas": null,
            "grid_template_columns": null,
            "grid_template_rows": null,
            "height": null,
            "justify_content": null,
            "justify_items": null,
            "left": null,
            "margin": null,
            "max_height": null,
            "max_width": null,
            "min_height": null,
            "min_width": null,
            "object_fit": null,
            "object_position": null,
            "order": null,
            "overflow": null,
            "overflow_x": null,
            "overflow_y": null,
            "padding": null,
            "right": null,
            "top": null,
            "visibility": null,
            "width": null
          }
        },
        "e7fd62e852bf403b975bb620f2a43821": {
          "model_module": "@jupyter-widgets/controls",
          "model_name": "DescriptionStyleModel",
          "model_module_version": "1.5.0",
          "state": {
            "_model_module": "@jupyter-widgets/controls",
            "_model_module_version": "1.5.0",
            "_model_name": "DescriptionStyleModel",
            "_view_count": null,
            "_view_module": "@jupyter-widgets/base",
            "_view_module_version": "1.2.0",
            "_view_name": "StyleView",
            "description_width": ""
          }
        },
        "09a11b1bcc7e40048bf0534f7d46ae70": {
          "model_module": "@jupyter-widgets/base",
          "model_name": "LayoutModel",
          "model_module_version": "1.2.0",
          "state": {
            "_model_module": "@jupyter-widgets/base",
            "_model_module_version": "1.2.0",
            "_model_name": "LayoutModel",
            "_view_count": null,
            "_view_module": "@jupyter-widgets/base",
            "_view_module_version": "1.2.0",
            "_view_name": "LayoutView",
            "align_content": null,
            "align_items": null,
            "align_self": null,
            "border": null,
            "bottom": null,
            "display": null,
            "flex": null,
            "flex_flow": null,
            "grid_area": null,
            "grid_auto_columns": null,
            "grid_auto_flow": null,
            "grid_auto_rows": null,
            "grid_column": null,
            "grid_gap": null,
            "grid_row": null,
            "grid_template_areas": null,
            "grid_template_columns": null,
            "grid_template_rows": null,
            "height": null,
            "justify_content": null,
            "justify_items": null,
            "left": null,
            "margin": null,
            "max_height": null,
            "max_width": null,
            "min_height": null,
            "min_width": null,
            "object_fit": null,
            "object_position": null,
            "order": null,
            "overflow": null,
            "overflow_x": null,
            "overflow_y": null,
            "padding": null,
            "right": null,
            "top": null,
            "visibility": null,
            "width": null
          }
        },
        "9fcc09eefd604ed9b0a153c4a6d7774a": {
          "model_module": "@jupyter-widgets/controls",
          "model_name": "VBoxModel",
          "model_module_version": "1.5.0",
          "state": {
            "_dom_classes": [
              "widget-interact"
            ],
            "_model_module": "@jupyter-widgets/controls",
            "_model_module_version": "1.5.0",
            "_model_name": "VBoxModel",
            "_view_count": null,
            "_view_module": "@jupyter-widgets/controls",
            "_view_module_version": "1.5.0",
            "_view_name": "VBoxView",
            "box_style": "",
            "children": [
              "IPY_MODEL_3581b78d5f38485db85a5260045dcf03",
              "IPY_MODEL_16685b4ee2ac44449dfcc10a466599c8"
            ],
            "layout": "IPY_MODEL_85be9aa27eac47999458c90c37c1d8bd"
          }
        },
        "3581b78d5f38485db85a5260045dcf03": {
          "model_module": "@jupyter-widgets/controls",
          "model_name": "DropdownModel",
          "model_module_version": "1.5.0",
          "state": {
            "_dom_classes": [],
            "_model_module": "@jupyter-widgets/controls",
            "_model_module_version": "1.5.0",
            "_model_name": "DropdownModel",
            "_options_labels": [
              "N",
              "P",
              "K",
              "temperature",
              "humidity",
              "ph",
              "rainfall"
            ],
            "_view_count": null,
            "_view_module": "@jupyter-widgets/controls",
            "_view_module_version": "1.5.0",
            "_view_name": "DropdownView",
            "description": "conditions",
            "description_tooltip": null,
            "disabled": false,
            "index": 0,
            "layout": "IPY_MODEL_c859392725a04912a43b5c87019caa67",
            "style": "IPY_MODEL_356a520216e54d49bc4a917111749b2c"
          }
        },
        "16685b4ee2ac44449dfcc10a466599c8": {
          "model_module": "@jupyter-widgets/output",
          "model_name": "OutputModel",
          "model_module_version": "1.0.0",
          "state": {
            "_dom_classes": [],
            "_model_module": "@jupyter-widgets/output",
            "_model_module_version": "1.0.0",
            "_model_name": "OutputModel",
            "_view_count": null,
            "_view_module": "@jupyter-widgets/output",
            "_view_module_version": "1.0.0",
            "_view_name": "OutputView",
            "layout": "IPY_MODEL_834ffe25c0454ab8a434770793a48b22",
            "msg_id": "",
            "outputs": [
              {
                "output_type": "stream",
                "name": "stdout",
                "text": [
                  "crops which require greater than average N \n",
                  "\n",
                  "['rice' 'maize' 'chickpea' 'blackgram' 'banana' 'watermelon' 'muskmelon'\n",
                  " 'papaya' 'cotton' 'jute' 'coffee']\n",
                  "----------------------------------------------\n",
                  "crops which require less than average N \n",
                  "\n",
                  "['chickpea' 'kidneybeans' 'pigeonpeas' 'mothbeans' 'mungbean' 'blackgram'\n",
                  " 'lentil' 'pomegranate' 'mango' 'grapes' 'apple' 'orange' 'papaya'\n",
                  " 'coconut']\n"
                ]
              }
            ]
          }
        },
        "85be9aa27eac47999458c90c37c1d8bd": {
          "model_module": "@jupyter-widgets/base",
          "model_name": "LayoutModel",
          "model_module_version": "1.2.0",
          "state": {
            "_model_module": "@jupyter-widgets/base",
            "_model_module_version": "1.2.0",
            "_model_name": "LayoutModel",
            "_view_count": null,
            "_view_module": "@jupyter-widgets/base",
            "_view_module_version": "1.2.0",
            "_view_name": "LayoutView",
            "align_content": null,
            "align_items": null,
            "align_self": null,
            "border": null,
            "bottom": null,
            "display": null,
            "flex": null,
            "flex_flow": null,
            "grid_area": null,
            "grid_auto_columns": null,
            "grid_auto_flow": null,
            "grid_auto_rows": null,
            "grid_column": null,
            "grid_gap": null,
            "grid_row": null,
            "grid_template_areas": null,
            "grid_template_columns": null,
            "grid_template_rows": null,
            "height": null,
            "justify_content": null,
            "justify_items": null,
            "left": null,
            "margin": null,
            "max_height": null,
            "max_width": null,
            "min_height": null,
            "min_width": null,
            "object_fit": null,
            "object_position": null,
            "order": null,
            "overflow": null,
            "overflow_x": null,
            "overflow_y": null,
            "padding": null,
            "right": null,
            "top": null,
            "visibility": null,
            "width": null
          }
        },
        "c859392725a04912a43b5c87019caa67": {
          "model_module": "@jupyter-widgets/base",
          "model_name": "LayoutModel",
          "model_module_version": "1.2.0",
          "state": {
            "_model_module": "@jupyter-widgets/base",
            "_model_module_version": "1.2.0",
            "_model_name": "LayoutModel",
            "_view_count": null,
            "_view_module": "@jupyter-widgets/base",
            "_view_module_version": "1.2.0",
            "_view_name": "LayoutView",
            "align_content": null,
            "align_items": null,
            "align_self": null,
            "border": null,
            "bottom": null,
            "display": null,
            "flex": null,
            "flex_flow": null,
            "grid_area": null,
            "grid_auto_columns": null,
            "grid_auto_flow": null,
            "grid_auto_rows": null,
            "grid_column": null,
            "grid_gap": null,
            "grid_row": null,
            "grid_template_areas": null,
            "grid_template_columns": null,
            "grid_template_rows": null,
            "height": null,
            "justify_content": null,
            "justify_items": null,
            "left": null,
            "margin": null,
            "max_height": null,
            "max_width": null,
            "min_height": null,
            "min_width": null,
            "object_fit": null,
            "object_position": null,
            "order": null,
            "overflow": null,
            "overflow_x": null,
            "overflow_y": null,
            "padding": null,
            "right": null,
            "top": null,
            "visibility": null,
            "width": null
          }
        },
        "356a520216e54d49bc4a917111749b2c": {
          "model_module": "@jupyter-widgets/controls",
          "model_name": "DescriptionStyleModel",
          "model_module_version": "1.5.0",
          "state": {
            "_model_module": "@jupyter-widgets/controls",
            "_model_module_version": "1.5.0",
            "_model_name": "DescriptionStyleModel",
            "_view_count": null,
            "_view_module": "@jupyter-widgets/base",
            "_view_module_version": "1.2.0",
            "_view_name": "StyleView",
            "description_width": ""
          }
        },
        "834ffe25c0454ab8a434770793a48b22": {
          "model_module": "@jupyter-widgets/base",
          "model_name": "LayoutModel",
          "model_module_version": "1.2.0",
          "state": {
            "_model_module": "@jupyter-widgets/base",
            "_model_module_version": "1.2.0",
            "_model_name": "LayoutModel",
            "_view_count": null,
            "_view_module": "@jupyter-widgets/base",
            "_view_module_version": "1.2.0",
            "_view_name": "LayoutView",
            "align_content": null,
            "align_items": null,
            "align_self": null,
            "border": null,
            "bottom": null,
            "display": null,
            "flex": null,
            "flex_flow": null,
            "grid_area": null,
            "grid_auto_columns": null,
            "grid_auto_flow": null,
            "grid_auto_rows": null,
            "grid_column": null,
            "grid_gap": null,
            "grid_row": null,
            "grid_template_areas": null,
            "grid_template_columns": null,
            "grid_template_rows": null,
            "height": null,
            "justify_content": null,
            "justify_items": null,
            "left": null,
            "margin": null,
            "max_height": null,
            "max_width": null,
            "min_height": null,
            "min_width": null,
            "object_fit": null,
            "object_position": null,
            "order": null,
            "overflow": null,
            "overflow_x": null,
            "overflow_y": null,
            "padding": null,
            "right": null,
            "top": null,
            "visibility": null,
            "width": null
          }
        }
      }
    }
  },
  "nbformat": 4,
  "nbformat_minor": 0
}